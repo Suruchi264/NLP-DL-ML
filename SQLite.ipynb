{
  "nbformat": 4,
  "nbformat_minor": 0,
  "metadata": {
    "colab": {
      "provenance": [],
      "authorship_tag": "ABX9TyPwJ+MY+rM+xL+MRbtkfWTJ",
      "include_colab_link": true
    },
    "kernelspec": {
      "name": "python3",
      "display_name": "Python 3"
    },
    "language_info": {
      "name": "python"
    }
  },
  "cells": [
    {
      "cell_type": "markdown",
      "metadata": {
        "id": "view-in-github",
        "colab_type": "text"
      },
      "source": [
        "<a href=\"https://colab.research.google.com/github/Suruchi264/NLP-DL-ML/blob/main/SQLite.ipynb\" target=\"_parent\"><img src=\"https://colab.research.google.com/assets/colab-badge.svg\" alt=\"Open In Colab\"/></a>"
      ]
    },
    {
      "cell_type": "markdown",
      "source": [
        "***SQL & SQLite ***\n",
        "\n",
        "SQL is a standard language for managing and manipulating relational databases. SQLite is a self-contained, serverless, and zero-configuration database engine that is widely used for embedded database systems. You can store it in your local machine. Embedded in python3"
      ],
      "metadata": {
        "id": "GfqTDmXXzycv"
      }
    },
    {
      "cell_type": "code",
      "source": [
        "import sqlite3"
      ],
      "metadata": {
        "id": "GpSzxIyn0VqA"
      },
      "execution_count": 1,
      "outputs": []
    },
    {
      "cell_type": "code",
      "source": [
        "## Connect to an SQLite DAtsbase\n",
        "\n",
        "connection = sqlite3.connect('example.db')\n",
        "connection"
      ],
      "metadata": {
        "colab": {
          "base_uri": "https://localhost:8080/"
        },
        "id": "STfHM6Eh0a9F",
        "outputId": "6d1d1b31-194b-451a-d5ca-7c1007f590aa"
      },
      "execution_count": 2,
      "outputs": [
        {
          "output_type": "execute_result",
          "data": {
            "text/plain": [
              "<sqlite3.Connection at 0x7b2961546c50>"
            ]
          },
          "metadata": {},
          "execution_count": 2
        }
      ]
    },
    {
      "cell_type": "code",
      "source": [
        "cursor = connection.cursor()\n"
      ],
      "metadata": {
        "id": "j03gOt6B0rVU"
      },
      "execution_count": 3,
      "outputs": []
    },
    {
      "cell_type": "code",
      "source": [
        "##Create a Table\n",
        "cursor.execute('''\n",
        "CREATE TABLE If not exists employees(\n",
        "    id Integer Primary Key,\n",
        "    name Text Not Null,\n",
        "    age Integer,\n",
        "    department text\n",
        "    )\n",
        "''')\n",
        "\n",
        "## Commit the changes\n",
        "connection.commit()"
      ],
      "metadata": {
        "id": "lNNrWNR_0vGC"
      },
      "execution_count": 5,
      "outputs": []
    },
    {
      "cell_type": "code",
      "source": [
        "##Create a Table\n",
        "cursor.execute('''\n",
        "select * from employees\n",
        "\n",
        "''')"
      ],
      "metadata": {
        "colab": {
          "base_uri": "https://localhost:8080/"
        },
        "id": "SitDXBOV1yvm",
        "outputId": "c21755d4-3f2a-40c6-846a-0c538bd2412e"
      },
      "execution_count": 6,
      "outputs": [
        {
          "output_type": "execute_result",
          "data": {
            "text/plain": [
              "<sqlite3.Cursor at 0x7b2961f072c0>"
            ]
          },
          "metadata": {},
          "execution_count": 6
        }
      ]
    },
    {
      "cell_type": "code",
      "source": [
        "## Insert the data in sqlite table\n",
        "cursor.execute('''\n",
        "INSERT INTO employees (name, age, department)\n",
        "                VALUES('Suruchi', 22, 'Data Scientist')\n",
        "''')\n",
        "\n",
        "cursor.execute('''\n",
        "INSERT INTO employees (name, age, department)\n",
        "                VALUES('Rory', 22, 'Data Analyst')\n",
        "''')\n",
        "\n",
        "cursor.execute('''\n",
        "INSERT INTO employees (name, age, department)\n",
        "                VALUES('Lorelai', 21, 'Data Engineer')\n",
        "''')\n",
        "\n",
        "cursor.execute('''\n",
        "INSERT INTO employees (name, age, department)\n",
        "                VALUES('Alfie', 24, 'Software Engineer')\n",
        "''')\n",
        "\n",
        "cursor.execute('''\n",
        "INSERT INTO employees (name, age, department)\n",
        "                VALUES('Emily', 25, 'UI/UX Designer')\n",
        "''')\n",
        "\n",
        "\n",
        "cursor.execute('''\n",
        "INSERT INTO employees (name, age, department)\n",
        "                VALUES ('Gabriel', 26, 'Frontend Developer')\n",
        "''')\n",
        "\n",
        "\n",
        "cursor.execute('''\n",
        "INSERT INTO employees (name, age, department)\n",
        "                VALUES ('Joshua', 27, 'Backend Developer')\n",
        "''')\n",
        "\n",
        "cursor.execute('''\n",
        "INSERT INTO employees (name, age, department)\n",
        "                VALUES ('Kunal', 28, 'Full Stack Developer')\n",
        "''')\n",
        "\n",
        "cursor.execute('''\n",
        "INSERT INTO employees (name, age, department)\n",
        "                VALUES ('Damon', 29, 'Data Scientist')\n",
        "''')\n",
        "\n",
        "cursor.execute('''\n",
        "INSERT INTO employees (name, age, department)\n",
        "                VALUES ('Stefan', 31, 'Data Scientist')\n",
        "''')\n",
        "connection.commit()"
      ],
      "metadata": {
        "id": "1jJdy1wh16rY"
      },
      "execution_count": 44,
      "outputs": []
    },
    {
      "cell_type": "code",
      "source": [
        "## Query the data from the table\n",
        "# cursor.execute('DELETE FROM employees') # Clear existing data\n",
        "cursor.execute('Select * from employees')\n",
        "rows = cursor.fetchall()\n",
        "\n",
        "## print the queried data\n",
        "if not rows:\n",
        "    print(\"No data found in the table.\")\n",
        "else:\n",
        "    for row in rows:\n",
        "        print(row)"
      ],
      "metadata": {
        "colab": {
          "base_uri": "https://localhost:8080/"
        },
        "id": "WtLg-szT39bU",
        "outputId": "783e365c-3259-4e3d-c490-50c39cc35971"
      },
      "execution_count": 45,
      "outputs": [
        {
          "output_type": "stream",
          "name": "stdout",
          "text": [
            "(1, 'Suruchi', 22, 'Data Scientist')\n",
            "(2, 'Rory', 22, 'Data Analyst')\n",
            "(3, 'Lorelai', 21, 'Data Engineer')\n",
            "(4, 'Alfie', 24, 'Software Engineer')\n",
            "(5, 'Emily', 25, 'UI/UX Designer')\n",
            "(6, 'Gabriel', 26, 'Frontend Developer')\n",
            "(7, 'Joshua', 27, 'Backend Developer')\n",
            "(8, 'Kunal', 28, 'Full Stack Developer')\n",
            "(9, 'Damon', 29, 'Data Scientist')\n",
            "(10, 'Stefan', 31, 'Data Scientist')\n"
          ]
        }
      ]
    },
    {
      "cell_type": "code",
      "source": [
        "## Update the data in the table\n",
        "cursor.execute('''\n",
        "UPDATE employees\n",
        "SET age = 25, department = 'Sales'\n",
        "WHERE name = 'Suru'\n",
        "''')\n",
        "connection.commit()\n",
        "\n",
        "print(\"Record for Josh updated successfully.\")"
      ],
      "metadata": {
        "colab": {
          "base_uri": "https://localhost:8080/"
        },
        "id": "F55QZIHB7X_p",
        "outputId": "f76de4c2-66ac-4908-c423-7fcbd854bf89"
      },
      "execution_count": 56,
      "outputs": [
        {
          "output_type": "stream",
          "name": "stdout",
          "text": [
            "Record for Josh updated successfully.\n"
          ]
        }
      ]
    },
    {
      "cell_type": "code",
      "source": [
        "cursor.execute('Select * from employees')\n",
        "rows = cursor.fetchall()\n",
        "\n",
        "## print the queried data\n",
        "if not rows:\n",
        "    print(\"No data found in the table.\")\n",
        "else:\n",
        "    for row in rows:\n",
        "        print(row)"
      ],
      "metadata": {
        "colab": {
          "base_uri": "https://localhost:8080/"
        },
        "id": "i9KguS5N8SEK",
        "outputId": "1909028f-de36-4a6e-977f-80780d5c070e"
      },
      "execution_count": 54,
      "outputs": [
        {
          "output_type": "stream",
          "name": "stdout",
          "text": [
            "(1, 'Suruchi', 22, 'Data Scientist')\n",
            "(2, 'Rory', 22, 'Data Analyst')\n",
            "(3, 'Lorelai', 21, 'Data Engineer')\n",
            "(4, 'Alfie', 24, 'Software Engineer')\n",
            "(5, 'Emily', 25, 'UI/UX Designer')\n",
            "(6, 'Gabriel', 26, 'Frontend Developer')\n",
            "(7, 'Joshua', 27, 'Backend Developer')\n",
            "(8, 'Kunal', 28, 'Full Stack Developer')\n",
            "(9, 'Damon', 29, 'Data Scientist')\n",
            "(10, 'Stefan', 31, 'Data Scientist')\n",
            "(11, 'Josh', 23, 'Marketing')\n"
          ]
        }
      ]
    },
    {
      "cell_type": "code",
      "metadata": {
        "colab": {
          "base_uri": "https://localhost:8080/"
        },
        "id": "5734b418",
        "outputId": "4f3e0e57-7721-443a-b742-ad51defa50c8"
      },
      "source": [
        "## Insert a new record with the name 'Josh'\n",
        "cursor.execute('''\n",
        "INSERT INTO employees (name, age, department)\n",
        "VALUES ('Josh', 23, 'Marketing')\n",
        "''')\n",
        "connection.commit()\n",
        "\n",
        "print(\"Record for Josh inserted successfully.\")"
      ],
      "execution_count": 49,
      "outputs": [
        {
          "output_type": "stream",
          "name": "stdout",
          "text": [
            "Record for Josh inserted successfully.\n"
          ]
        }
      ]
    },
    {
      "cell_type": "code",
      "source": [
        "cursor.execute('Select * from employees')\n",
        "rows = cursor.fetchall()\n",
        "\n",
        "## print the queried data\n",
        "if not rows:\n",
        "    print(\"No data found in the table.\")\n",
        "else:\n",
        "    for row in rows:\n",
        "        print(row)"
      ],
      "metadata": {
        "colab": {
          "base_uri": "https://localhost:8080/"
        },
        "id": "-OlBYa8JAGXi",
        "outputId": "2ffbdfae-6f42-40e2-fae2-2c17282da1d7"
      },
      "execution_count": 55,
      "outputs": [
        {
          "output_type": "stream",
          "name": "stdout",
          "text": [
            "(1, 'Suruchi', 22, 'Data Scientist')\n",
            "(2, 'Rory', 22, 'Data Analyst')\n",
            "(3, 'Lorelai', 21, 'Data Engineer')\n",
            "(4, 'Alfie', 24, 'Software Engineer')\n",
            "(5, 'Emily', 25, 'UI/UX Designer')\n",
            "(6, 'Gabriel', 26, 'Frontend Developer')\n",
            "(7, 'Joshua', 27, 'Backend Developer')\n",
            "(8, 'Kunal', 28, 'Full Stack Developer')\n",
            "(9, 'Damon', 29, 'Data Scientist')\n",
            "(10, 'Stefan', 31, 'Data Scientist')\n",
            "(11, 'Josh', 23, 'Marketing')\n"
          ]
        }
      ]
    },
    {
      "cell_type": "code",
      "source": [
        "## Update the data in the table\n",
        "cursor.execute('''\n",
        "UPDATE employees\n",
        "SET age = 25, department = 'Sales'\n",
        "WHERE name = 'Suru'\n",
        "''')\n",
        "connection.commit()"
      ],
      "metadata": {
        "id": "sXcFKa3gBRn7"
      },
      "execution_count": 57,
      "outputs": []
    },
    {
      "cell_type": "code",
      "source": [
        "cursor.execute('Select * from employees')\n",
        "rows = cursor.fetchall()\n",
        "\n",
        "## print the queried data\n",
        "if not rows:\n",
        "    print(\"No data found in the table.\")\n",
        "else:\n",
        "    for row in rows:\n",
        "        print(row)"
      ],
      "metadata": {
        "colab": {
          "base_uri": "https://localhost:8080/"
        },
        "id": "L1yCR-CZB_SB",
        "outputId": "81d2f57c-32cf-41ec-a5e0-2e73d4acbae4"
      },
      "execution_count": 59,
      "outputs": [
        {
          "output_type": "stream",
          "name": "stdout",
          "text": [
            "(1, 'Suruchi', 22, 'Data Scientist')\n",
            "(2, 'Rory', 22, 'Data Analyst')\n",
            "(3, 'Lorelai', 21, 'Data Engineer')\n",
            "(4, 'Alfie', 24, 'Software Engineer')\n",
            "(5, 'Emily', 25, 'UI/UX Designer')\n",
            "(6, 'Gabriel', 26, 'Frontend Developer')\n",
            "(7, 'Joshua', 27, 'Backend Developer')\n",
            "(8, 'Kunal', 28, 'Full Stack Developer')\n",
            "(9, 'Damon', 29, 'Data Scientist')\n",
            "(10, 'Stefan', 31, 'Data Scientist')\n",
            "(11, 'Josh', 23, 'Marketing')\n"
          ]
        }
      ]
    },
    {
      "cell_type": "code",
      "source": [
        "## Delete the data from the table\n",
        "cursor.execute('''\n",
        "Delete from employees\n",
        "where name = 'Josh'\n",
        "''')\n",
        "connection.commit()"
      ],
      "metadata": {
        "id": "__HaiLeCDisv"
      },
      "execution_count": 60,
      "outputs": []
    },
    {
      "cell_type": "code",
      "source": [
        "cursor.execute('Select * from employees')\n",
        "rows = cursor.fetchall()\n",
        "\n",
        "## print the queried data\n",
        "if not rows:\n",
        "    print(\"No data found in the table.\")\n",
        "else:\n",
        "    for row in rows:\n",
        "        print(row)"
      ],
      "metadata": {
        "colab": {
          "base_uri": "https://localhost:8080/"
        },
        "id": "rtlvQs8pDxJJ",
        "outputId": "a21298c0-321f-456d-beba-a67b31a39705"
      },
      "execution_count": 61,
      "outputs": [
        {
          "output_type": "stream",
          "name": "stdout",
          "text": [
            "(1, 'Suruchi', 22, 'Data Scientist')\n",
            "(2, 'Rory', 22, 'Data Analyst')\n",
            "(3, 'Lorelai', 21, 'Data Engineer')\n",
            "(4, 'Alfie', 24, 'Software Engineer')\n",
            "(5, 'Emily', 25, 'UI/UX Designer')\n",
            "(6, 'Gabriel', 26, 'Frontend Developer')\n",
            "(7, 'Joshua', 27, 'Backend Developer')\n",
            "(8, 'Kunal', 28, 'Full Stack Developer')\n",
            "(9, 'Damon', 29, 'Data Scientist')\n",
            "(10, 'Stefan', 31, 'Data Scientist')\n"
          ]
        }
      ]
    },
    {
      "cell_type": "code",
      "source": [
        "## Working with sales data\n",
        "## Connect to an SQLite database\n",
        "connection = sqlite3.connect('sales_data.db')\n",
        "cursor = connection.cursor()\n",
        "\n",
        "## create a table for sales data\n",
        "cursor.execute('''\n",
        "CREATE TABLE IF NOT EXISTS sales (\n",
        "    id INTEGER PRIMARY KEY,\n",
        "    date TEXT NOT NULL,\n",
        "    product TEXT NOT NULL,\n",
        "    sales INTEGER,\n",
        "    region TEXT\n",
        ")\n",
        "''')\n",
        "\n",
        "## Insert data into the sales table\n",
        "sales_data = [\n",
        "    ('2023-01-01', 'Product A', 100, 'North'),\n",
        "    ('2023-01-02', 'Product B', 150, 'South'),\n",
        "    ('2023-01-03', 'Product C', 200, 'East'),\n",
        "    ('2023-01-04', 'Product A', 120, 'West'),\n",
        "    ('2023-01-05', 'Product B', 180, 'North'),\n",
        "    ('2023-01-06', 'Product C', 220, 'South'),\n",
        "    ('2023-01-07', 'Product A', 90, 'East'),\n",
        "    ('2023-01-08', 'Product B', 160, 'West'),\n",
        "    ('2023-01-09', 'Product C', 190, 'North'),\n",
        "]\n",
        "cursor.executemany('''\n",
        "INSERT INTO sales(date, product, sales, region)\n",
        "VALUES (?, ?, ?, ?)''', sales_data)\n",
        "connection.commit()"
      ],
      "metadata": {
        "id": "8F20FIJWEG4f"
      },
      "execution_count": 66,
      "outputs": []
    },
    {
      "cell_type": "code",
      "source": [
        "cursor.execute('Select * from sales')\n",
        "rows = cursor.fetchall()\n",
        "\n",
        "## print the queried data\n",
        "if not rows:\n",
        "    print(\"No data found in the table.\")\n",
        "else:\n",
        "    for row in rows:\n",
        "        print(row)"
      ],
      "metadata": {
        "colab": {
          "base_uri": "https://localhost:8080/"
        },
        "id": "TKYxcBiRIB-H",
        "outputId": "6941e4f7-cf14-453b-d8a9-4080cf4c680b"
      },
      "execution_count": 68,
      "outputs": [
        {
          "output_type": "stream",
          "name": "stdout",
          "text": [
            "(1, '2023-01-01', 'Product A', 100, 'North')\n",
            "(2, '2023-01-02', 'Product B', 150, 'South')\n",
            "(3, '2023-01-03', 'Product C', 200, 'East')\n",
            "(4, '2023-01-04', 'Product A', 120, 'West')\n",
            "(5, '2023-01-05', 'Product B', 180, 'North')\n",
            "(6, '2023-01-06', 'Product C', 220, 'South')\n",
            "(7, '2023-01-07', 'Product A', 90, 'East')\n",
            "(8, '2023-01-08', 'Product B', 160, 'West')\n",
            "(9, '2023-01-09', 'Product C', 190, 'North')\n",
            "(10, '2023-01-01', 'Product A', 100, 'North')\n",
            "(11, '2023-01-02', 'Product B', 150, 'South')\n",
            "(12, '2023-01-03', 'Product C', 200, 'East')\n",
            "(13, '2023-01-04', 'Product A', 120, 'West')\n",
            "(14, '2023-01-05', 'Product B', 180, 'North')\n",
            "(15, '2023-01-06', 'Product C', 220, 'South')\n",
            "(16, '2023-01-07', 'Product A', 90, 'East')\n",
            "(17, '2023-01-08', 'Product B', 160, 'West')\n",
            "(18, '2023-01-09', 'Product C', 190, 'North')\n"
          ]
        }
      ]
    },
    {
      "cell_type": "code",
      "source": [
        "## Close the connection\n",
        "\n",
        "connection.close()"
      ],
      "metadata": {
        "id": "arI1ZJSfIOkn"
      },
      "execution_count": 69,
      "outputs": []
    },
    {
      "cell_type": "markdown",
      "source": [
        "***Assignment 1: Creating and Connecting to a Database***\n",
        "\n",
        "1. Write a Python function to create a new SQLite3 database named `test.db`.\n",
        "2. Write a Python function to create a table named `employees` with columns `id` (integer), `name` (text), `age` (integer), and `department` (text) in the `test.db` database."
      ],
      "metadata": {
        "id": "OgASVFMLIiq6"
      }
    },
    {
      "cell_type": "code",
      "source": [
        "import sqlite3\n",
        "cursor = connection.cursor()"
      ],
      "metadata": {
        "id": "MOHVIkqWJc99"
      },
      "execution_count": 40,
      "outputs": []
    },
    {
      "cell_type": "code",
      "source": [
        "cursor.execute('DELETE FROM employees')"
      ],
      "metadata": {
        "colab": {
          "base_uri": "https://localhost:8080/"
        },
        "id": "l7hD5hibJYHL",
        "outputId": "9dd3814d-45d7-4996-ffb0-8626420b891c"
      },
      "execution_count": 27,
      "outputs": [
        {
          "output_type": "execute_result",
          "data": {
            "text/plain": [
              "<sqlite3.Cursor at 0x7e2e95763440>"
            ]
          },
          "metadata": {},
          "execution_count": 27
        }
      ]
    },
    {
      "cell_type": "code",
      "source": [
        "## Connect to an SQLite DAtsbase\n",
        "\n",
        "connection = sqlite3.connect('test.db')\n",
        "connection"
      ],
      "metadata": {
        "colab": {
          "base_uri": "https://localhost:8080/"
        },
        "id": "GVvd2IJMkBnz",
        "outputId": "3fa289a0-5505-41db-9510-e0f3e8628b70"
      },
      "execution_count": 47,
      "outputs": [
        {
          "output_type": "execute_result",
          "data": {
            "text/plain": [
              "<sqlite3.Connection at 0x7e2e95794c70>"
            ]
          },
          "metadata": {},
          "execution_count": 47
        }
      ]
    },
    {
      "cell_type": "code",
      "source": [
        "cursor = connection.cursor()"
      ],
      "metadata": {
        "id": "Gjb0qmGvp_6W"
      },
      "execution_count": 48,
      "outputs": []
    },
    {
      "cell_type": "code",
      "source": [
        "## create a table for sales data\n",
        "cursor.execute('''\n",
        "CREATE TABLE IF NOT EXISTS employees (\n",
        "    id Integer Primary Key,\n",
        "    name Text Not Null,\n",
        "    age Integer,\n",
        "    department text\n",
        ")\n",
        "''')\n",
        "\n",
        "## Insert data into the sales table\n",
        "# Check if the table is empty before inserting\n",
        "cursor.execute('SELECT COUNT(*) FROM employees')\n",
        "count = cursor.fetchone()[0]\n",
        "\n",
        "if count == 0:\n",
        "    employees_table = [\n",
        "        ('Suruchi', 22, 'Data Scientist'),\n",
        "        ('Rory', 22, 'Data Analyst'),\n",
        "        ('Lorelai', 21, 'Data Engineer'),\n",
        "        ('Alfie', 24, 'Software Engineer'),\n",
        "        ('Emily', 25, 'UI/UX Designer'),\n",
        "        ('Gabriel', 26, 'Frontend Developer'),\n",
        "        ('Joshua', 27, 'Backend Developer'),\n",
        "        ('Kunal', 28, 'Full Stack Developer'),\n",
        "        ('Damon', 29, 'Data Scientist'),\n",
        "        ('Stefan', 31, 'Data Scientist')\n",
        "    ]\n",
        "    cursor.executemany('''\n",
        "    INSERT INTO employees(name, age, department)\n",
        "    VALUES (?, ?, ?)''', employees_table)\n",
        "    connection.commit()\n",
        "    print(\"Initial employee data inserted successfully.\")\n",
        "else:\n",
        "    print(\"Employees table is not empty. Skipping initial data insertion.\")"
      ],
      "metadata": {
        "colab": {
          "base_uri": "https://localhost:8080/"
        },
        "id": "9TOdz0hvkVWZ",
        "outputId": "436659e9-8909-49c0-9311-27ad201e320a"
      },
      "execution_count": 32,
      "outputs": [
        {
          "output_type": "stream",
          "name": "stdout",
          "text": [
            "Employees table is not empty. Skipping initial data insertion.\n"
          ]
        }
      ]
    },
    {
      "cell_type": "code",
      "source": [
        "# cursor.execute('DELETE FROM employees') # Clear existing data\n",
        "cursor.execute('Select * from employees')\n",
        "rows = cursor.fetchall()\n",
        "\n",
        "## print the queried data\n",
        "if not rows:\n",
        "    print(\"No data found in the table.\")\n",
        "else:\n",
        "    for row in rows:\n",
        "        print(row)"
      ],
      "metadata": {
        "colab": {
          "base_uri": "https://localhost:8080/"
        },
        "id": "O1ySRpawrNIv",
        "outputId": "686e075b-1b01-4c5a-b0d6-954cd9987ca8"
      },
      "execution_count": 33,
      "outputs": [
        {
          "output_type": "stream",
          "name": "stdout",
          "text": [
            "(1, 'Suruchi', 22, 'Data Scientist')\n",
            "(2, 'Rory', 22, 'Data Analyst')\n",
            "(3, 'Lorelai', 21, 'Data Engineer')\n",
            "(4, 'Alfie', 24, 'Software Engineer')\n",
            "(5, 'Emily', 25, 'UI/UX Designer')\n",
            "(6, 'Gabriel', 26, 'Frontend Developer')\n",
            "(7, 'Joshua', 27, 'Backend Developer')\n",
            "(8, 'Kunal', 28, 'Full Stack Developer')\n",
            "(9, 'Damon', 29, 'Data Scientist')\n",
            "(10, 'Stefan', 31, 'Data Scientist')\n"
          ]
        }
      ]
    },
    {
      "cell_type": "markdown",
      "source": [
        "***Assignment 2: Inserting Data***\n",
        "\n",
        "1. Write a Python function to insert a new employee into the `employees` table.\n",
        "2. Insert at least 5 different employees into the `employees` table."
      ],
      "metadata": {
        "id": "B_avbm0WsfYu"
      }
    },
    {
      "cell_type": "code",
      "source": [
        "## It's done above!! Woaaaaaaaah I am so happy!!!! I am so smart!"
      ],
      "metadata": {
        "id": "yVX4UD7usj70"
      },
      "execution_count": null,
      "outputs": []
    },
    {
      "cell_type": "markdown",
      "source": [
        "***Assignment 3: Querying Data***\n",
        "\n",
        "1. Write a Python function to fetch and display all records from the `employees` table.\n",
        "2. Write a Python function to fetch and display all employees from a specific department."
      ],
      "metadata": {
        "id": "bJ4pJd8RssbP"
      }
    },
    {
      "cell_type": "code",
      "source": [
        "def fetch_all_employees():\n",
        "    conn = sqlite3.connect('test.db')\n",
        "    cursor = conn.cursor()\n",
        "    cursor.execute('SELECT * FROM employees')\n",
        "    records = cursor.fetchall()\n",
        "    conn.close()\n",
        "    for record in records:\n",
        "        print(record)\n",
        "\n",
        "# Test the function\n",
        "fetch_all_employees()"
      ],
      "metadata": {
        "colab": {
          "base_uri": "https://localhost:8080/"
        },
        "id": "MtNyk0DYuUgZ",
        "outputId": "e8d8b1a3-c2f4-4c92-d952-39fe1cf64289"
      },
      "execution_count": 34,
      "outputs": [
        {
          "output_type": "stream",
          "name": "stdout",
          "text": [
            "(1, 'Suruchi', 22, 'Data Scientist')\n",
            "(2, 'Rory', 22, 'Data Analyst')\n",
            "(3, 'Lorelai', 21, 'Data Engineer')\n",
            "(4, 'Alfie', 24, 'Software Engineer')\n",
            "(5, 'Emily', 25, 'UI/UX Designer')\n",
            "(6, 'Gabriel', 26, 'Frontend Developer')\n",
            "(7, 'Joshua', 27, 'Backend Developer')\n",
            "(8, 'Kunal', 28, 'Full Stack Developer')\n",
            "(9, 'Damon', 29, 'Data Scientist')\n",
            "(10, 'Stefan', 31, 'Data Scientist')\n"
          ]
        }
      ]
    },
    {
      "cell_type": "code",
      "source": [
        "# 2nd one is below\n",
        "\n",
        "# Specify the department you want to query\n",
        "def fetch_employees_by_department(department):\n",
        "    conn = sqlite3.connect('test.db')\n",
        "    cursor = conn.cursor()\n",
        "    cursor.execute('SELECT * FROM employees WHERE department = ?', (department,))\n",
        "    records = cursor.fetchall()\n",
        "    conn.close()\n",
        "    for record in records:\n",
        "        print(record)\n",
        "\n",
        "# Test the function\n",
        "fetch_employees_by_department('Data Scientist')"
      ],
      "metadata": {
        "colab": {
          "base_uri": "https://localhost:8080/"
        },
        "id": "M4qax0uutZHi",
        "outputId": "f5738692-562f-4914-81c3-08b56f9294ee"
      },
      "execution_count": 35,
      "outputs": [
        {
          "output_type": "stream",
          "name": "stdout",
          "text": [
            "(1, 'Suruchi', 22, 'Data Scientist')\n",
            "(9, 'Damon', 29, 'Data Scientist')\n",
            "(10, 'Stefan', 31, 'Data Scientist')\n"
          ]
        }
      ]
    },
    {
      "cell_type": "markdown",
      "source": [
        "***Assignment 4: Updating Data***\n",
        "\n",
        "1. Write a Python function to update the department of an employee based on their `id`.\n",
        "2. Update the department of at least 2 employees and display the updated records."
      ],
      "metadata": {
        "id": "RYC9EiLzuleT"
      }
    },
    {
      "cell_type": "code",
      "source": [
        "## Update the data in the table\n",
        "\n",
        "import sqlite3\n",
        "\n",
        "# Open the database connection again\n",
        "connection = sqlite3.connect(\"test.db\", timeout=10)  # replace with your DB file\n",
        "cursor = connection.cursor()\n",
        "\n",
        "# Update the data in the table\n",
        "cursor.execute('''\n",
        "UPDATE employees\n",
        "SET department = 'HR'\n",
        "WHERE id = 1\n",
        "''')\n",
        "connection.commit()\n",
        "\n",
        "print(\"Record updated successfully.\")"
      ],
      "metadata": {
        "colab": {
          "base_uri": "https://localhost:8080/",
          "height": 211
        },
        "id": "2f3Lrwlaunwu",
        "outputId": "109257ba-5a90-4b6c-9382-4cbb773cbe05"
      },
      "execution_count": 50,
      "outputs": [
        {
          "output_type": "error",
          "ename": "OperationalError",
          "evalue": "database is locked",
          "traceback": [
            "\u001b[0;31m---------------------------------------------------------------------------\u001b[0m",
            "\u001b[0;31mOperationalError\u001b[0m                          Traceback (most recent call last)",
            "\u001b[0;32m/tmp/ipython-input-50-2494632285.py\u001b[0m in \u001b[0;36m<cell line: 0>\u001b[0;34m()\u001b[0m\n\u001b[1;32m      8\u001b[0m \u001b[0;34m\u001b[0m\u001b[0m\n\u001b[1;32m      9\u001b[0m \u001b[0;31m# Update the data in the table\u001b[0m\u001b[0;34m\u001b[0m\u001b[0;34m\u001b[0m\u001b[0m\n\u001b[0;32m---> 10\u001b[0;31m cursor.execute('''\n\u001b[0m\u001b[1;32m     11\u001b[0m \u001b[0mUPDATE\u001b[0m \u001b[0memployees\u001b[0m\u001b[0;34m\u001b[0m\u001b[0;34m\u001b[0m\u001b[0m\n\u001b[1;32m     12\u001b[0m \u001b[0mSET\u001b[0m \u001b[0mdepartment\u001b[0m \u001b[0;34m=\u001b[0m \u001b[0;34m'HR'\u001b[0m\u001b[0;34m\u001b[0m\u001b[0;34m\u001b[0m\u001b[0m\n",
            "\u001b[0;31mOperationalError\u001b[0m: database is locked"
          ]
        }
      ]
    },
    {
      "cell_type": "code",
      "source": [
        "# cursor.execute('DELETE FROM employees') # Clear existing data\n",
        "cursor.execute('Select * from employees')\n",
        "rows = cursor.fetchall()\n",
        "\n",
        "## print the queried data\n",
        "if not rows:\n",
        "    print(\"No data found in the table.\")\n",
        "else:\n",
        "    for row in rows:\n",
        "        print(row)"
      ],
      "metadata": {
        "colab": {
          "base_uri": "https://localhost:8080/",
          "height": 211
        },
        "id": "dcx5_TFbvRg8",
        "outputId": "e3ad03b2-5bf0-40f9-c396-79f3c4c0d3e6"
      },
      "execution_count": 38,
      "outputs": [
        {
          "output_type": "error",
          "ename": "ProgrammingError",
          "evalue": "Cannot operate on a closed database.",
          "traceback": [
            "\u001b[0;31m---------------------------------------------------------------------------\u001b[0m",
            "\u001b[0;31mProgrammingError\u001b[0m                          Traceback (most recent call last)",
            "\u001b[0;32m/tmp/ipython-input-38-3913311450.py\u001b[0m in \u001b[0;36m<cell line: 0>\u001b[0;34m()\u001b[0m\n\u001b[1;32m      1\u001b[0m \u001b[0;31m# cursor.execute('DELETE FROM employees') # Clear existing data\u001b[0m\u001b[0;34m\u001b[0m\u001b[0;34m\u001b[0m\u001b[0m\n\u001b[0;32m----> 2\u001b[0;31m \u001b[0mcursor\u001b[0m\u001b[0;34m.\u001b[0m\u001b[0mexecute\u001b[0m\u001b[0;34m(\u001b[0m\u001b[0;34m'Select * from employees'\u001b[0m\u001b[0;34m)\u001b[0m\u001b[0;34m\u001b[0m\u001b[0;34m\u001b[0m\u001b[0m\n\u001b[0m\u001b[1;32m      3\u001b[0m \u001b[0mrows\u001b[0m \u001b[0;34m=\u001b[0m \u001b[0mcursor\u001b[0m\u001b[0;34m.\u001b[0m\u001b[0mfetchall\u001b[0m\u001b[0;34m(\u001b[0m\u001b[0;34m)\u001b[0m\u001b[0;34m\u001b[0m\u001b[0;34m\u001b[0m\u001b[0m\n\u001b[1;32m      4\u001b[0m \u001b[0;34m\u001b[0m\u001b[0m\n\u001b[1;32m      5\u001b[0m \u001b[0;31m## print the queried data\u001b[0m\u001b[0;34m\u001b[0m\u001b[0;34m\u001b[0m\u001b[0m\n",
            "\u001b[0;31mProgrammingError\u001b[0m: Cannot operate on a closed database."
          ]
        }
      ]
    },
    {
      "cell_type": "code",
      "source": [
        "## Update the department of at least 2 employees and display the updated records.\n",
        "## Update the data in the table\n",
        "## Another approach for this completely\n",
        "\n",
        "def update_employee_department(employee_id, new_department):\n",
        "    conn = sqlite3.connect('test.db')\n",
        "    cursor = conn.cursor()\n",
        "    cursor.execute('''\n",
        "        UPDATE employees\n",
        "        SET department = ?\n",
        "        WHERE id = ?\n",
        "    ''', (new_department, employee_id))\n",
        "    conn.commit()\n",
        "    conn.close()\n",
        "    print(\"Employee department updated successfully.\")\n",
        "\n",
        "# Test the function\n",
        "update_employee_department(1, 'Finance')"
      ],
      "metadata": {
        "colab": {
          "base_uri": "https://localhost:8080/"
        },
        "id": "A6ZqEbNIvXvF",
        "outputId": "09421fcb-59b7-45c9-80f0-e07026d02ffc"
      },
      "execution_count": 85,
      "outputs": [
        {
          "output_type": "stream",
          "name": "stdout",
          "text": [
            "Employee department updated successfully.\n"
          ]
        }
      ]
    },
    {
      "cell_type": "code",
      "source": [
        "# Update the department of 2 employees\n",
        "update_employee_department(2, 'Research')\n",
        "update_employee_department(3, 'Customer Support')\n",
        "\n",
        "# Fetch and display all records\n",
        "fetch_all_employees()"
      ],
      "metadata": {
        "colab": {
          "base_uri": "https://localhost:8080/"
        },
        "id": "k4e0MpUmwBzr",
        "outputId": "260ce7cd-ac0a-42d0-c481-4f8365228d78"
      },
      "execution_count": 86,
      "outputs": [
        {
          "output_type": "stream",
          "name": "stdout",
          "text": [
            "Employee department updated successfully.\n",
            "Employee department updated successfully.\n",
            "(1, 'Suruchi', 22, 'Finance')\n",
            "(2, 'Rory', 22, 'Research')\n",
            "(3, 'Lorelai', 21, 'Customer Support')\n",
            "(4, 'Alfie', 24, 'Software Engineer')\n",
            "(5, 'Emily', 25, 'UI/UX Designer')\n",
            "(6, 'Gabriel', 26, 'Frontend Developer')\n",
            "(7, 'Joshua', 27, 'Backend Developer')\n",
            "(8, 'Kunal', 28, 'Full Stack Developer')\n",
            "(9, 'Damon', 29, 'Data Scientist')\n",
            "(10, 'Stefan', 31, 'Data Scientist')\n"
          ]
        }
      ]
    },
    {
      "cell_type": "markdown",
      "source": [
        "***Assignment 5: Deleting Data***\n",
        "\n",
        "1. Write a Python function to delete an employee from the `employees` table based on their `id`.\n",
        "2. Delete at least 1 employee and display the remaining records.\n"
      ],
      "metadata": {
        "id": "DBqWr1RkwEZu"
      }
    },
    {
      "cell_type": "code",
      "source": [
        "def delete_employee_record(employee_id):\n",
        "    conn = sqlite3.connect('test.db')\n",
        "    cursor = conn.cursor()\n",
        "    cursor.execute('''\n",
        "        DELETE from employees\n",
        "        WHERE id = ?\n",
        "    ''', (employee_id,))\n",
        "    conn.commit()\n",
        "    conn.close()\n",
        "    print(\"Employee department deleted successfully.\")\n",
        "\n",
        "# Test the function\n",
        "delete_employee_record(8)"
      ],
      "metadata": {
        "colab": {
          "base_uri": "https://localhost:8080/"
        },
        "id": "_-5j88S2wLM2",
        "outputId": "129c96cb-7223-4dd2-93e4-5a766463ad82"
      },
      "execution_count": 89,
      "outputs": [
        {
          "output_type": "stream",
          "name": "stdout",
          "text": [
            "Employee department deleted successfully.\n"
          ]
        }
      ]
    },
    {
      "cell_type": "code",
      "source": [
        "def delete_employee_record(employee_id):\n",
        "    conn = sqlite3.connect('test.db')\n",
        "    cursor = conn.cursor()\n",
        "    cursor.execute('''\n",
        "        DELETE from employees\n",
        "        WHERE id = ?\n",
        "    ''', (employee_id,))\n",
        "    conn.commit()\n",
        "    conn.close()\n",
        "    print(\"Employee department deleted successfully.\")\n",
        "\n",
        "# Test the function\n",
        "delete_employee_record(9)"
      ],
      "metadata": {
        "colab": {
          "base_uri": "https://localhost:8080/"
        },
        "id": "n7pJ0J2VxFPx",
        "outputId": "c6df0466-2e64-4e46-f8b5-0093c516743b"
      },
      "execution_count": 90,
      "outputs": [
        {
          "output_type": "stream",
          "name": "stdout",
          "text": [
            "Employee department deleted successfully.\n"
          ]
        }
      ]
    },
    {
      "cell_type": "code",
      "source": [
        "fetch_all_employees()"
      ],
      "metadata": {
        "colab": {
          "base_uri": "https://localhost:8080/"
        },
        "id": "g15JOwFZxSPS",
        "outputId": "7537bfc3-10df-4162-c4d1-d874980ff2c6"
      },
      "execution_count": 91,
      "outputs": [
        {
          "output_type": "stream",
          "name": "stdout",
          "text": [
            "(1, 'Suruchi', 22, 'Finance')\n",
            "(2, 'Rory', 22, 'Research')\n",
            "(3, 'Lorelai', 21, 'Customer Support')\n",
            "(4, 'Alfie', 24, 'Software Engineer')\n",
            "(5, 'Emily', 25, 'UI/UX Designer')\n",
            "(6, 'Gabriel', 26, 'Frontend Developer')\n",
            "(7, 'Joshua', 27, 'Backend Developer')\n",
            "(10, 'Stefan', 31, 'Data Scientist')\n"
          ]
        }
      ]
    },
    {
      "cell_type": "markdown",
      "source": [
        "***Assignment 6: Advanced Queries***\n",
        "\n",
        "1. Write a Python function to fetch and display employees older than a certain age.\n",
        "2. Write a Python function to fetch and display employees whose names start with a specific letter."
      ],
      "metadata": {
        "id": "jVYHxBwWxU_b"
      }
    },
    {
      "cell_type": "code",
      "source": [
        "def fetch_employees_by_condition(age):\n",
        "    conn = sqlite3.connect('test.db')\n",
        "    cursor = conn.cursor()\n",
        "    cursor.execute('SELECT * FROM employees WHERE age > ?', (age,))\n",
        "    records = cursor.fetchall()\n",
        "    conn.close()\n",
        "    for record in records:\n",
        "        print(record)\n",
        "\n",
        "# Test the function\n",
        "fetch_employees_by_condition(25)"
      ],
      "metadata": {
        "colab": {
          "base_uri": "https://localhost:8080/"
        },
        "id": "de0h0SG5xeYv",
        "outputId": "c1693525-428b-4b36-e348-d663093a562e"
      },
      "execution_count": 94,
      "outputs": [
        {
          "output_type": "stream",
          "name": "stdout",
          "text": [
            "(6, 'Gabriel', 26, 'Frontend Developer')\n",
            "(7, 'Joshua', 27, 'Backend Developer')\n",
            "(10, 'Stefan', 31, 'Data Scientist')\n"
          ]
        }
      ]
    },
    {
      "cell_type": "code",
      "source": [
        "def fetch_employees_by_condition2(letter):\n",
        "    conn = sqlite3.connect('test.db')\n",
        "    cursor = conn.cursor()\n",
        "    cursor.execute('SELECT * FROM employees WHERE name LIKE ?', (letter + '%',))\n",
        "    records = cursor.fetchall()\n",
        "    conn.close()\n",
        "    for record in records:\n",
        "        print(record)\n",
        "\n",
        "# Test the function\n",
        "fetch_employees_by_condition2('S')"
      ],
      "metadata": {
        "colab": {
          "base_uri": "https://localhost:8080/"
        },
        "id": "lFWu9cQay2Gz",
        "outputId": "06a1734f-d7e4-4c75-d14e-4dd501d9a9b3"
      },
      "execution_count": 95,
      "outputs": [
        {
          "output_type": "stream",
          "name": "stdout",
          "text": [
            "(1, 'Suruchi', 22, 'Finance')\n",
            "(10, 'Stefan', 31, 'Data Scientist')\n"
          ]
        }
      ]
    },
    {
      "cell_type": "markdown",
      "source": [
        "***Assignment 7: Handling Transactions***\n",
        "\n",
        "1. Write a Python function to insert multiple employees into the `employees` table in a single transaction. Ensure that if any insertion fails, none of the insertions are committed.\n",
        "2. Write a Python function to update the age of multiple employees in a single transaction. Ensure that if any update fails, none of the updates are committed."
      ],
      "metadata": {
        "id": "HKphgSEgzmPd"
      }
    },
    {
      "cell_type": "code",
      "source": [
        "def insert_multiple_employees(employees):\n",
        "    conn = sqlite3.connect('test.db')\n",
        "    cursor = conn.cursor()\n",
        "    try:\n",
        "        cursor.executemany('''\n",
        "            INSERT INTO employees (id, name, age, department)\n",
        "            VALUES (?, ?, ?, ?)\n",
        "        ''', employees)\n",
        "        conn.commit()\n",
        "        print(\"All employees inserted successfully.\")\n",
        "    except Exception as e:\n",
        "        conn.rollback()\n",
        "        print(\"Error occurred, transaction rolled back.\")\n",
        "        print(e)\n",
        "    finally:\n",
        "        conn.close()\n",
        "\n",
        "# Test the function with valid and invalid data\n",
        "employees = [\n",
        "    (6, 'Frank', 40, 'Finance'),\n",
        "    (7, 'Grace', 29, 'Engineering'),\n",
        "    (8, 'Hannah', 35, 'Marketing'),\n",
        "    (9, 'Ivan', 38, 'Sales'),\n",
        "    (6, 'Jack', 45, 'HR')  # Duplicate ID to cause an error\n",
        "]\n",
        "insert_multiple_employees(employees)"
      ],
      "metadata": {
        "colab": {
          "base_uri": "https://localhost:8080/"
        },
        "id": "TPZ_wD-Fz51c",
        "outputId": "7d3be904-f287-4f98-be79-481e36fd7251"
      },
      "execution_count": 96,
      "outputs": [
        {
          "output_type": "stream",
          "name": "stdout",
          "text": [
            "Error occurred, transaction rolled back.\n",
            "UNIQUE constraint failed: employees.id\n"
          ]
        }
      ]
    },
    {
      "cell_type": "code",
      "source": [
        "def update_multiple_employees_ages(updates):\n",
        "    conn = sqlite3.connect('test.db')\n",
        "    cursor = conn.cursor()\n",
        "    try:\n",
        "        cursor.executemany('''\n",
        "            UPDATE employees\n",
        "            SET age = ?\n",
        "            WHERE id = ?\n",
        "        ''', updates)\n",
        "        conn.commit()\n",
        "        print(\"All employee ages updated successfully.\")\n",
        "    except Exception as e:\n",
        "        conn.rollback()\n",
        "        print(\"Error occurred, transaction rolled back.\")\n",
        "        print(e)\n",
        "    finally:\n",
        "        conn.close()\n",
        "\n",
        "# Test the function with valid and invalid data\n",
        "updates = [\n",
        "    (32, 1),\n",
        "    (26, 2),\n",
        "    (33, 3),\n",
        "    (41, 4),  # Non-existing ID to cause an error\n",
        "    (23, 5)\n",
        "]\n",
        "update_multiple_employees_ages(updates)"
      ],
      "metadata": {
        "colab": {
          "base_uri": "https://localhost:8080/"
        },
        "id": "8v5hD-fb1l8L",
        "outputId": "1f3122e1-ca06-4c1b-a39f-abca3c1c6133"
      },
      "execution_count": 97,
      "outputs": [
        {
          "output_type": "stream",
          "name": "stdout",
          "text": [
            "All employee ages updated successfully.\n"
          ]
        }
      ]
    },
    {
      "cell_type": "markdown",
      "source": [
        "***Assignment 8: Creating Relationships***\n",
        "\n",
        "1. Create a new table named `departments` with columns `id` (integer) and `name` (text).\n",
        "2. Modify the `employees` table to include a foreign key referencing the `id` column in the `departments` table.\n",
        "3. Write a Python function to insert data into both the `departments` and `employees` tables, ensuring referential integrity."
      ],
      "metadata": {
        "id": "zRUcyynUzru-"
      }
    },
    {
      "cell_type": "code",
      "source": [
        "## Connect to an SQLite DAtsbase\n",
        "import sqlite3\n",
        "connection = sqlite3.connect('test.db')\n",
        "connection"
      ],
      "metadata": {
        "colab": {
          "base_uri": "https://localhost:8080/"
        },
        "id": "mOFYboBrB9Xl",
        "outputId": "d5ac22c6-9722-4905-ed2c-e87028a56638"
      },
      "execution_count": 12,
      "outputs": [
        {
          "output_type": "execute_result",
          "data": {
            "text/plain": [
              "<sqlite3.Connection at 0x7e2e96043f10>"
            ]
          },
          "metadata": {},
          "execution_count": 12
        }
      ]
    },
    {
      "cell_type": "code",
      "source": [
        "def create_departments_table():\n",
        "    conn = sqlite3.connect('test.db')\n",
        "    cursor = conn.cursor()\n",
        "    cursor.execute('''\n",
        "        CREATE TABLE IF NOT EXISTS departments (\n",
        "            id INTEGER PRIMARY KEY,\n",
        "            name TEXT NOT NULL\n",
        "        )\n",
        "    ''')\n",
        "    conn.commit()\n",
        "    conn.close()\n",
        "    print(\"Table 'departments' created successfully.\")\n",
        "\n",
        "# Test the function\n",
        "create_departments_table()"
      ],
      "metadata": {
        "colab": {
          "base_uri": "https://localhost:8080/"
        },
        "id": "2PzH-B8bAJLc",
        "outputId": "48641144-9d7d-4f51-fdac-85ec4942ef2d"
      },
      "execution_count": 3,
      "outputs": [
        {
          "output_type": "stream",
          "name": "stdout",
          "text": [
            "Table 'departments' created successfully.\n"
          ]
        }
      ]
    },
    {
      "cell_type": "code",
      "source": [
        "def add_department_foreign_key():\n",
        "    conn = sqlite3.connect('test.db')\n",
        "    cursor = conn.cursor()\n",
        "    try:\n",
        "        cursor.execute('PRAGMA foreign_keys=off;')\n",
        "        cursor.execute('BEGIN TRANSACTION;')\n",
        "        cursor.execute('ALTER TABLE employees RENAME TO old_employees;')\n",
        "        cursor.execute('''\n",
        "            CREATE TABLE employees (\n",
        "                id INTEGER PRIMARY KEY,\n",
        "                name TEXT NOT NULL,\n",
        "                age INTEGER,\n",
        "                department TEXT,\n",
        "                department_id INTEGER,\n",
        "                FOREIGN KEY(department_id) REFERENCES departments(id)\n",
        "            );\n",
        "        ''')\n",
        "        cursor.execute('INSERT INTO employees (id, name, age, department) SELECT id, name, age, department FROM old_employees;')\n",
        "        cursor.execute('DROP TABLE old_employees;')\n",
        "        cursor.execute('COMMIT;')\n",
        "        cursor.execute('PRAGMA foreign_keys=on;')\n",
        "        conn.commit() # Commit the PRAGMA statements as well\n",
        "        print(\"Table 'employees' modified successfully.\")\n",
        "    except Exception as e:\n",
        "        conn.rollback()\n",
        "        print(\"Error occurred, transaction rolled back.\")\n",
        "        print(e)\n",
        "    finally:\n",
        "        conn.close()\n",
        "\n",
        "# Test the function\n",
        "add_department_foreign_key()"
      ],
      "metadata": {
        "colab": {
          "base_uri": "https://localhost:8080/"
        },
        "id": "SYomO-PoCDvh",
        "outputId": "a3ed066b-6cd6-46dc-e301-46e534661921"
      },
      "execution_count": 7,
      "outputs": [
        {
          "output_type": "stream",
          "name": "stdout",
          "text": [
            "Error occurred, transaction rolled back.\n",
            "no such table: employees\n"
          ]
        }
      ]
    },
    {
      "cell_type": "code",
      "source": [
        "def insert_department_and_employee(department_id, department_name, employee_id, name, age, department):\n",
        "    conn = sqlite3.connect('test.db')\n",
        "    cursor = conn.cursor()\n",
        "    try:\n",
        "        cursor.execute('''\n",
        "            INSERT INTO departments (id, name)\n",
        "            VALUES (?, ?)\n",
        "        ''', (department_id, department_name))\n",
        "        cursor.execute('''\n",
        "            INSERT INTO employees (id, name, age, department, department_id)\n",
        "            VALUES (?, ?, ?, ?, ?)\n",
        "        ''', (employee_id, name, age, department, department_id))\n",
        "        conn.commit()\n",
        "        print(\"Department and employee inserted successfully.\")\n",
        "    except Exception as e:\n",
        "        conn.rollback()\n",
        "        print(\"Error occurred, transaction rolled back.\")\n",
        "        print(e)\n",
        "    finally:\n",
        "        conn.close()\n",
        "\n",
        "# Test the function\n",
        "insert_department_and_employee(1, 'Finance', 10, 'Zara', 28, 'Finance')"
      ],
      "metadata": {
        "colab": {
          "base_uri": "https://localhost:8080/"
        },
        "id": "RmyRyOQLEjqb",
        "outputId": "4235d565-e8c4-49f4-8a16-85f4d7a95bb0"
      },
      "execution_count": 8,
      "outputs": [
        {
          "output_type": "stream",
          "name": "stdout",
          "text": [
            "Error occurred, transaction rolled back.\n",
            "no such table: employees\n"
          ]
        }
      ]
    },
    {
      "cell_type": "markdown",
      "source": [
        "***Assignment 9: Indexing and Optimization***\n",
        "\n",
        "1. Create an index on the `name` column of the `employees` table.\n",
        "2. Write a Python function to fetch and display all employees whose names start with a specific letter. Compare the performance with and without the index."
      ],
      "metadata": {
        "id": "TF-33Md_zwDH"
      }
    },
    {
      "cell_type": "code",
      "source": [
        "def create_index_on_name():\n",
        "    conn = sqlite3.connect('test.db')\n",
        "    cursor = conn.cursor()\n",
        "    cursor.execute('CREATE INDEX idx_name ON employees(name)')\n",
        "    conn.commit()\n",
        "    conn.close()\n",
        "    print(\"Index on 'name' column created successfully.\")\n",
        "\n",
        "# Test the function\n",
        "create_index_on_name()"
      ],
      "metadata": {
        "colab": {
          "base_uri": "https://localhost:8080/",
          "height": 297
        },
        "id": "owHTI-r6Fe0l",
        "outputId": "01f4f99d-720f-4997-d1cf-88c8e59639ce"
      },
      "execution_count": 11,
      "outputs": [
        {
          "output_type": "error",
          "ename": "OperationalError",
          "evalue": "no such table: main.employees",
          "traceback": [
            "\u001b[0;31m---------------------------------------------------------------------------\u001b[0m",
            "\u001b[0;31mOperationalError\u001b[0m                          Traceback (most recent call last)",
            "\u001b[0;32m/tmp/ipython-input-11-2698106506.py\u001b[0m in \u001b[0;36m<cell line: 0>\u001b[0;34m()\u001b[0m\n\u001b[1;32m      8\u001b[0m \u001b[0;34m\u001b[0m\u001b[0m\n\u001b[1;32m      9\u001b[0m \u001b[0;31m# Test the function\u001b[0m\u001b[0;34m\u001b[0m\u001b[0;34m\u001b[0m\u001b[0m\n\u001b[0;32m---> 10\u001b[0;31m \u001b[0mcreate_index_on_name\u001b[0m\u001b[0;34m(\u001b[0m\u001b[0;34m)\u001b[0m\u001b[0;34m\u001b[0m\u001b[0;34m\u001b[0m\u001b[0m\n\u001b[0m",
            "\u001b[0;32m/tmp/ipython-input-11-2698106506.py\u001b[0m in \u001b[0;36mcreate_index_on_name\u001b[0;34m()\u001b[0m\n\u001b[1;32m      2\u001b[0m     \u001b[0mconn\u001b[0m \u001b[0;34m=\u001b[0m \u001b[0msqlite3\u001b[0m\u001b[0;34m.\u001b[0m\u001b[0mconnect\u001b[0m\u001b[0;34m(\u001b[0m\u001b[0;34m'test.db'\u001b[0m\u001b[0;34m)\u001b[0m\u001b[0;34m\u001b[0m\u001b[0;34m\u001b[0m\u001b[0m\n\u001b[1;32m      3\u001b[0m     \u001b[0mcursor\u001b[0m \u001b[0;34m=\u001b[0m \u001b[0mconn\u001b[0m\u001b[0;34m.\u001b[0m\u001b[0mcursor\u001b[0m\u001b[0;34m(\u001b[0m\u001b[0;34m)\u001b[0m\u001b[0;34m\u001b[0m\u001b[0;34m\u001b[0m\u001b[0m\n\u001b[0;32m----> 4\u001b[0;31m     \u001b[0mcursor\u001b[0m\u001b[0;34m.\u001b[0m\u001b[0mexecute\u001b[0m\u001b[0;34m(\u001b[0m\u001b[0;34m'CREATE INDEX idx_name ON employees(name)'\u001b[0m\u001b[0;34m)\u001b[0m\u001b[0;34m\u001b[0m\u001b[0;34m\u001b[0m\u001b[0m\n\u001b[0m\u001b[1;32m      5\u001b[0m     \u001b[0mconn\u001b[0m\u001b[0;34m.\u001b[0m\u001b[0mcommit\u001b[0m\u001b[0;34m(\u001b[0m\u001b[0;34m)\u001b[0m\u001b[0;34m\u001b[0m\u001b[0;34m\u001b[0m\u001b[0m\n\u001b[1;32m      6\u001b[0m     \u001b[0mconn\u001b[0m\u001b[0;34m.\u001b[0m\u001b[0mclose\u001b[0m\u001b[0;34m(\u001b[0m\u001b[0;34m)\u001b[0m\u001b[0;34m\u001b[0m\u001b[0;34m\u001b[0m\u001b[0m\n",
            "\u001b[0;31mOperationalError\u001b[0m: no such table: main.employees"
          ]
        }
      ]
    },
    {
      "cell_type": "code",
      "source": [
        "import time\n",
        "\n",
        "def fetch_employees_name_starts_with_performance(letter):\n",
        "    conn = sqlite3.connect('test.db')\n",
        "    cursor = conn.cursor()\n",
        "    start_time = time.time()\n",
        "    cursor.execute('SELECT * FROM employees WHERE name LIKE ?', (letter + '%',))\n",
        "    records = cursor.fetchall()\n",
        "    end_time = time.time()\n",
        "    conn.close()\n",
        "    print(\"Time taken: {} seconds\".format(end_time - start_time))\n",
        "    for record in records:\n",
        "        print(record)\n",
        "\n",
        "# Test the function with the index\n",
        "fetch_employees_name_starts_with_performance('A')"
      ],
      "metadata": {
        "id": "0JzD7MfsFbLQ"
      },
      "execution_count": null,
      "outputs": []
    },
    {
      "cell_type": "markdown",
      "source": [
        "***Assignment 10: Backing Up and Restoring Data***\n",
        "\n",
        "1. Write a Python function to back up the `test.db` database to a file named `backup.db`.\n",
        "2. Write a Python function to restore the `test.db` database from the `backup.db` file."
      ],
      "metadata": {
        "id": "aaIK-IwFz0OB"
      }
    },
    {
      "cell_type": "code",
      "source": [
        "import shutil\n",
        "\n",
        "def backup_database():\n",
        "    shutil.copy('test.db', 'backup.db')\n",
        "    print(\"Database backed up successfully.\")\n",
        "\n",
        "# Test the function\n",
        "backup_database()"
      ],
      "metadata": {
        "id": "yq0FE2wLFgrK"
      },
      "execution_count": null,
      "outputs": []
    },
    {
      "cell_type": "code",
      "source": [
        "def restore_database():\n",
        "    shutil.copy('backup.db', 'test.db')\n",
        "    print(\"Database restored successfully.\")\n",
        "\n",
        "# Test the function\n",
        "restore_database()"
      ],
      "metadata": {
        "id": "xte9qA08Fgdn"
      },
      "execution_count": null,
      "outputs": []
    }
  ]
}