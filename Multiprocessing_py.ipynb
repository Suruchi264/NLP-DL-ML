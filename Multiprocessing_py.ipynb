{
  "nbformat": 4,
  "nbformat_minor": 0,
  "metadata": {
    "colab": {
      "provenance": [],
      "authorship_tag": "ABX9TyOm62uyYtThW3etZpE19P4H",
      "include_colab_link": true
    },
    "kernelspec": {
      "name": "python3",
      "display_name": "Python 3"
    },
    "language_info": {
      "name": "python"
    }
  },
  "cells": [
    {
      "cell_type": "markdown",
      "metadata": {
        "id": "view-in-github",
        "colab_type": "text"
      },
      "source": [
        "<a href=\"https://colab.research.google.com/github/Suruchi264/NLP-DL-ML/blob/main/Multiprocessing_py.ipynb\" target=\"_parent\"><img src=\"https://colab.research.google.com/assets/colab-badge.svg\" alt=\"Open In Colab\"/></a>"
      ]
    },
    {
      "cell_type": "code",
      "execution_count": 1,
      "metadata": {
        "colab": {
          "base_uri": "https://localhost:8080/"
        },
        "id": "G09Nims7x0FR",
        "outputId": "ef297899-2c62-46c2-a004-9b0ea82232c5"
      },
      "outputs": [
        {
          "output_type": "stream",
          "name": "stdout",
          "text": [
            "Square: 0\n",
            "Cube: 0\n",
            "Square: 1\n",
            "Cube: 1\n",
            "Square: 4\n",
            "Cube: 8\n",
            "Square: 9\n",
            "Cube: 27\n",
            "Square: 16\n",
            "Cube: 64\n",
            "Total time: 5.123954772949219\n"
          ]
        }
      ],
      "source": [
        "## Multiprocessing - Processes that run in parallel\n",
        "## When to use -> CPU-Bound Tasks. Tasks that are heavy on CPU usage (e.g., mathematical computations, data processing).\n",
        "## Parallel executio- Multiple cores of the CPU\n",
        "\n",
        "\n",
        "import multiprocessing\n",
        "import time\n",
        "\n",
        "def square_numbers():\n",
        "    for i in range(5):\n",
        "        time.sleep(1)\n",
        "        print(f\"Square: {i*i}\")\n",
        "\n",
        "def cube_numbers():\n",
        "    for i in range(5):\n",
        "        time.sleep(1)\n",
        "        print(f\"Cube: {i*i*i}\")\n",
        "\n",
        "if __name__ == \"__main__\":\n",
        "    ## create 2 processes\n",
        "    ## these 2 different process will get executed separately and they have separate memory allocations too.\n",
        "    p1 = multiprocessing.Process(target=square_numbers)\n",
        "    p2 = multiprocessing.Process(target=cube_numbers)\n",
        "    t = time.time()\n",
        "\n",
        "    ## start the processes\n",
        "    p1.start()\n",
        "    p2.start()\n",
        "\n",
        "    ## wait for the processes to finish\n",
        "    p1.join()\n",
        "    p2.join()\n",
        "\n",
        "    finished_time = time.time()\n",
        "    print(f\"Total time: {finished_time - t}\")\n",
        ""
      ]
    }
  ]
}