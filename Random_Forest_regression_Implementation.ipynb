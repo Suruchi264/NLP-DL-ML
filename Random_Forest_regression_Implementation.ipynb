{
  "nbformat": 4,
  "nbformat_minor": 0,
  "metadata": {
    "colab": {
      "provenance": [],
      "authorship_tag": "ABX9TyPUqF9Klc7pUKXq3T8nmW20",
      "include_colab_link": true
    },
    "kernelspec": {
      "name": "python3",
      "display_name": "Python 3"
    },
    "language_info": {
      "name": "python"
    }
  },
  "cells": [
    {
      "cell_type": "markdown",
      "metadata": {
        "id": "view-in-github",
        "colab_type": "text"
      },
      "source": [
        "<a href=\"https://colab.research.google.com/github/Suruchi264/NLP-DL-ML/blob/main/Random_Forest_regression_Implementation.ipynb\" target=\"_parent\"><img src=\"https://colab.research.google.com/assets/colab-badge.svg\" alt=\"Open In Colab\"/></a>"
      ]
    },
    {
      "cell_type": "markdown",
      "source": [
        "# Used Car Price Prediction\n",
        "\n",
        "## 1) Problem statement.\n",
        "\n",
        "* This dataset comprises used cars sold on cardehko.com in India as well as important features of these cars.\n",
        "* If user can predict the price of the car based on input features.\n",
        "* Prediction results can be used to give new seller the price suggestion based on market condition.\n",
        "\n",
        "## 2) Data Collection.\n",
        "* The Dataset is collected from scrapping from cardheko webiste\n",
        "* The data consists of 13 column and 15411 rows."
      ],
      "metadata": {
        "id": "1sbmbl24tuR0"
      }
    },
    {
      "cell_type": "code",
      "source": [
        "import pandas as pd\n",
        "import numpy as np\n",
        "import matplotlib.pyplot as plt\n",
        "import seaborn as sns\n",
        "import plotly.express as px\n",
        "import warnings\n",
        "\n",
        "warnings.filterwarnings(\"ignore\")\n",
        "\n",
        "%matplotlib inline"
      ],
      "metadata": {
        "id": "WWE5CjCxtxuT"
      },
      "execution_count": null,
      "outputs": []
    },
    {
      "cell_type": "code",
      "source": [
        "df = pd.read_csv(r\"./data/cardekho_imputated.csv\", index_col=[0])"
      ],
      "metadata": {
        "id": "p1YR8l_KtzGg"
      },
      "execution_count": null,
      "outputs": []
    },
    {
      "cell_type": "code",
      "source": [
        "df.head()"
      ],
      "metadata": {
        "id": "vpcNjJw5tz6e"
      },
      "execution_count": null,
      "outputs": []
    },
    {
      "cell_type": "markdown",
      "source": [
        "## Data Cleaning\n",
        "### Handling Missing values\n",
        "\n"
      ],
      "metadata": {
        "id": "crWG4f8jt5Pa"
      }
    },
    {
      "cell_type": "markdown",
      "source": [
        "* Handling Missing values\n",
        "* Handling Duplicates\n",
        "* Check data type\n",
        "* Understand the dataset"
      ],
      "metadata": {
        "id": "UCVCqDwTt-gh"
      }
    },
    {
      "cell_type": "code",
      "source": [
        "## Check Null Values\n",
        "##Check features with nan value\n",
        "df.isnull().sum()"
      ],
      "metadata": {
        "id": "4JlvfzL-tz8b"
      },
      "execution_count": null,
      "outputs": []
    },
    {
      "cell_type": "code",
      "source": [
        "## Remove Unnecessary Columns\n",
        "df.drop('car_name', axis=1, inplace=True)\n",
        "df.drop('brand', axis=1, inplace=True)"
      ],
      "metadata": {
        "id": "jtfF-0Rqtz_B"
      },
      "execution_count": null,
      "outputs": []
    },
    {
      "cell_type": "code",
      "source": [
        "df.head()"
      ],
      "metadata": {
        "id": "yu2Nb2bFt0BG"
      },
      "execution_count": null,
      "outputs": []
    },
    {
      "cell_type": "code",
      "source": [
        "df['model'].unique()"
      ],
      "metadata": {
        "id": "dtYnL48Kt0Dd"
      },
      "execution_count": null,
      "outputs": []
    },
    {
      "cell_type": "code",
      "source": [
        "## Getting All Different Types OF Features\n",
        "num_features = [feature for feature in df.columns if df[feature].dtype != 'O']\n",
        "print('Num of Numerical Features :', len(num_features))\n",
        "cat_features = [feature for feature in df.columns if df[feature].dtype == 'O']\n",
        "print('Num of Categorical Features :', len(cat_features))\n",
        "discrete_features=[feature for feature in num_features if len(df[feature].unique())<=25]\n",
        "print('Num of Discrete Features :',len(discrete_features))\n",
        "continuous_features=[feature for feature in num_features if feature not in discrete_features]\n",
        "print('Num of Continuous Features :',len(continuous_features))"
      ],
      "metadata": {
        "id": "ctQ-S5axt0Fd"
      },
      "execution_count": null,
      "outputs": []
    },
    {
      "cell_type": "code",
      "source": [
        "## Indpendent and dependent features\n",
        "from sklearn.model_selection import train_test_split\n",
        "X = df.drop(['selling_price'], axis=1)\n",
        "y = df['selling_price']"
      ],
      "metadata": {
        "id": "QxuUPFOAt0I8"
      },
      "execution_count": null,
      "outputs": []
    },
    {
      "cell_type": "code",
      "source": [
        "X.head()"
      ],
      "metadata": {
        "id": "5BXWka58t0LS"
      },
      "execution_count": null,
      "outputs": []
    },
    {
      "cell_type": "markdown",
      "source": [
        "## Feature Encoding and Scaling\n",
        "**One Hot Encoding for Columns which had lesser unique values and not ordinal**\n",
        "* One hot encoding is a process by which categorical variables are converted into a form that could be provided to ML algorithms to do a better job in prediction."
      ],
      "metadata": {
        "id": "pDz7wIoqudSB"
      }
    },
    {
      "cell_type": "code",
      "source": [
        "len(df['model'].unique())"
      ],
      "metadata": {
        "id": "8vr7BJ2Yt0NH"
      },
      "execution_count": null,
      "outputs": []
    },
    {
      "cell_type": "code",
      "source": [
        "df['model'].value_counts()"
      ],
      "metadata": {
        "id": "KBuMI7NHt0QT"
      },
      "execution_count": null,
      "outputs": []
    },
    {
      "cell_type": "code",
      "source": [
        "from sklearn.preprocessing import LabelEncoder\n",
        "le=LabelEncoder()\n",
        "X['model']=le.fit_transform(X['model'])"
      ],
      "metadata": {
        "id": "i7vq1Re-t0Sw"
      },
      "execution_count": null,
      "outputs": []
    },
    {
      "cell_type": "code",
      "source": [
        "X.head()"
      ],
      "metadata": {
        "id": "MbmkYgvot0VT"
      },
      "execution_count": null,
      "outputs": []
    },
    {
      "cell_type": "code",
      "source": [
        "len(df['seller_type'].unique()),len(df['fuel_type'].unique()),len(df['transmission_type'].unique())"
      ],
      "metadata": {
        "id": "BXNieozPt0Xq"
      },
      "execution_count": null,
      "outputs": []
    },
    {
      "cell_type": "markdown",
      "source": [
        "df['seller_type'].unique():\n",
        "Returns an array of all unique values in the seller_type column of your DataFrame df.\n",
        "Example: If seller_type contains ['Dealer', 'Individual', 'Trustmark Dealer'], this will return those three unique values.\n",
        "\n",
        "len(...):\n",
        "Counts the number of unique values in each column.\n",
        "\n",
        "So:\n",
        "\n",
        "len(df['seller_type'].unique()) gives the number of unique seller types.\n",
        "len(df['fuel_type'].unique()) gives the number of unique fuel types.\n",
        "len(df['transmission_type'].unique()) gives the number of unique transmission types.\n",
        "The output is a tuple:\n",
        "For example, (3, 4, 2) means there are 3 seller types, 4 fuel types, and 2 transmission types in your dataset.\n",
        "\n",
        "\n",
        "\n",
        "\n",
        "Purpose\n",
        "Why do this?\n",
        "To understand how many categories each of these categorical features has.\n",
        "This is important for encoding (like one-hot encoding), as each unique value will become a new column.\n",
        "Mathematical Intuition\n",
        "Categorical Encoding:\n",
        "If a column has ( k ) unique values, one-hot encoding will create ( k-1 ) new columns (if drop='first' is used).\n",
        "Knowing the number of unique values helps you anticipate the dimensionality increase after encoding."
      ],
      "metadata": {
        "id": "Bj6hAi9Lvr5D"
      }
    },
    {
      "cell_type": "code",
      "source": [
        "# Create Column Transformer with 3 types of transformers\n",
        "num_features = X.select_dtypes(exclude=\"object\").columns\n",
        "onehot_columns = ['seller_type','fuel_type','transmission_type']\n",
        "\n",
        "from sklearn.preprocessing import OneHotEncoder, StandardScaler\n",
        "from sklearn.compose import ColumnTransformer\n",
        "\n",
        "numeric_transformer = StandardScaler()\n",
        "oh_transformer = OneHotEncoder(drop='first')\n",
        "\n",
        "preprocessor = ColumnTransformer(\n",
        "    [\n",
        "        (\"OneHotEncoder\", oh_transformer, onehot_columns),\n",
        "        (\"StandardScaler\", numeric_transformer, num_features)\n",
        "\n",
        "    ],remainder='passthrough'\n",
        "\n",
        ")"
      ],
      "metadata": {
        "id": "8h1Vaao9t0Z5"
      },
      "execution_count": null,
      "outputs": []
    },
    {
      "cell_type": "markdown",
      "source": [
        "Meaning:\n",
        "\n",
        "Identifies numerical and categorical columns.\n",
        "Applies StandardScaler to numerical columns (mean=0, std=1).\n",
        "Applies OneHotEncoder to categorical columns (converts categories to binary columns, dropping the first to avoid redundancy).\n",
        "remainder='passthrough' keeps any columns not listed unchanged.\n",
        "Purpose:\n",
        "To convert all features into a numeric format suitable for machine learning and to ensure features are on a comparable scale.\n",
        "\n",
        "Mathematical Intuition:\n",
        "\n",
        "Standardization:\n",
        "[ x' = \\frac{x - \\mu}{\\sigma} ] This helps algorithms that are sensitive to feature scale (like KNN, linear models).\n",
        "One-hot encoding:\n",
        "Converts each category into a new column with 0/1 values, allowing models to interpret categorical data."
      ],
      "metadata": {
        "id": "c-c7E7ZuwGp-"
      }
    },
    {
      "cell_type": "code",
      "source": [
        "X=preprocessor.fit_transform(X)"
      ],
      "metadata": {
        "id": "Rc086dkst0cI"
      },
      "execution_count": null,
      "outputs": []
    },
    {
      "cell_type": "code",
      "source": [
        "pd.DataFrame(X)"
      ],
      "metadata": {
        "id": "u6XcBjmDt0e7"
      },
      "execution_count": null,
      "outputs": []
    },
    {
      "cell_type": "code",
      "source": [
        "# separate dataset into train and test\n",
        "X_train, X_test, y_train, y_test = train_test_split(X,y,test_size=0.2,random_state=42)\n",
        "X_train.shape, X_test.shape"
      ],
      "metadata": {
        "id": "FlmKSlDht0hz"
      },
      "execution_count": null,
      "outputs": []
    },
    {
      "cell_type": "markdown",
      "source": [
        "Meaning:\n",
        "Splits the data into training (80%) and testing (20%) sets.\n",
        "\n",
        "Purpose:\n",
        "To evaluate model performance on unseen data and prevent overfitting."
      ],
      "metadata": {
        "id": "YeYJ2VtlwMcK"
      }
    },
    {
      "cell_type": "code",
      "source": [
        "X_train"
      ],
      "metadata": {
        "id": "HqVCgVNkuowg"
      },
      "execution_count": null,
      "outputs": []
    },
    {
      "cell_type": "markdown",
      "source": [
        "## Model Training And Model Selection"
      ],
      "metadata": {
        "id": "gprb0Obxurmp"
      }
    },
    {
      "cell_type": "code",
      "source": [
        "from sklearn.ensemble import RandomForestRegressor\n",
        "from sklearn.linear_model import LinearRegression, Ridge,Lasso\n",
        "from sklearn.neighbors import KNeighborsRegressor\n",
        "from sklearn.tree import DecisionTreeRegressor\n",
        "from sklearn.metrics import r2_score, mean_absolute_error, mean_squared_error"
      ],
      "metadata": {
        "id": "Qg59VmRSuoy4"
      },
      "execution_count": null,
      "outputs": []
    },
    {
      "cell_type": "code",
      "source": [
        "##Create a Function to Evaluate Model\n",
        "def evaluate_model(true, predicted):\n",
        "    mae = mean_absolute_error(true, predicted)\n",
        "    mse = mean_squared_error(true, predicted)\n",
        "    rmse = np.sqrt(mean_squared_error(true, predicted))\n",
        "    r2_square = r2_score(true, predicted)\n",
        "    return mae, rmse, r2_square"
      ],
      "metadata": {
        "id": "dYJn1f8xuo0y"
      },
      "execution_count": null,
      "outputs": []
    },
    {
      "cell_type": "markdown",
      "source": [
        "Meaning:\n",
        "Defines a function to compute:\n",
        "\n",
        "MAE (Mean Absolute Error): Average absolute difference between actual and predicted values.\n",
        "RMSE (Root Mean Squared Error): Square root of average squared differences.\n",
        "R2 Score: Proportion of variance explained by the model.\n",
        "Purpose:\n",
        "To provide consistent metrics for comparing model performance.\n",
        "\n",
        "Mathematical Intuition:\n",
        "\n",
        "MAE:\n",
        "[ \\text{MAE} = \\frac{1}{n} \\sum |y_i - \\hat{y}_i| ]\n",
        "RMSE:\n",
        "[ \\text{RMSE} = \\sqrt{\\frac{1}{n} \\sum (y_i - \\hat{y}_i)^2} ]\n",
        "R2 Score:\n",
        "[ R^2 = 1 - \\frac{\\sum (y_i - \\hat{y}_i)^2}{\\sum (y_i - \\bar{y})^2} ]"
      ],
      "metadata": {
        "id": "IynIpJRmwOdY"
      }
    },
    {
      "cell_type": "code",
      "source": [
        "## Beginning Model Training\n",
        "models = {\n",
        "    \"Linear Regression\": LinearRegression(),\n",
        "    \"Lasso\": Lasso(),\n",
        "    \"Ridge\": Ridge(),\n",
        "    \"K-Neighbors Regressor\": KNeighborsRegressor(),\n",
        "    \"Decision Tree\": DecisionTreeRegressor(),\n",
        "    \"Random Forest Regressor\": RandomForestRegressor(),\n",
        "\n",
        "}\n",
        "\n",
        "for i in range(len(list(models))):\n",
        "    model = list(models.values())[i]\n",
        "    model.fit(X_train, y_train) # Train model\n",
        "\n",
        "    # Make predictions\n",
        "    y_train_pred = model.predict(X_train)\n",
        "    y_test_pred = model.predict(X_test)\n",
        "\n",
        "    # Evaluate Train and Test dataset\n",
        "    model_train_mae , model_train_rmse, model_train_r2 = evaluate_model(y_train, y_train_pred)\n",
        "\n",
        "    model_test_mae , model_test_rmse, model_test_r2 = evaluate_model(y_test, y_test_pred)\n",
        "\n",
        "\n",
        "    print(list(models.keys())[i])\n",
        "\n",
        "    print('Model performance for Training set')\n",
        "    print(\"- Root Mean Squared Error: {:.4f}\".format(model_train_rmse))\n",
        "    print(\"- Mean Absolute Error: {:.4f}\".format(model_train_mae))\n",
        "    print(\"- R2 Score: {:.4f}\".format(model_train_r2))\n",
        "\n",
        "    print('----------------------------------')\n",
        "\n",
        "    print('Model performance for Test set')\n",
        "    print(\"- Root Mean Squared Error: {:.4f}\".format(model_test_rmse))\n",
        "    print(\"- Mean Absolute Error: {:.4f}\".format(model_test_mae))\n",
        "    print(\"- R2 Score: {:.4f}\".format(model_test_r2))\n",
        "\n",
        "    print('='*35)\n",
        "    print('\\n')"
      ],
      "metadata": {
        "id": "A5urw6ITuo2v"
      },
      "execution_count": null,
      "outputs": []
    },
    {
      "cell_type": "markdown",
      "source": [
        "Meaning:\n",
        "\n",
        "Trains each regression model on the training data.\n",
        "Predicts on both train and test sets.\n",
        "Evaluates and prints MAE, RMSE, and R2 for both sets.\n",
        "Purpose:\n",
        "To compare different regression algorithms and identify which performs best.\n",
        "\n",
        "Mathematical Intuition:\n",
        "\n",
        "Overfitting: High train performance, low test performance.\n",
        "Underfitting: Low performance on both.\n",
        "Good fit: Similar, high performance on both."
      ],
      "metadata": {
        "id": "-CR0nKHOwUo8"
      }
    },
    {
      "cell_type": "code",
      "source": [
        "#Initialize few parameter for Hyperparamter tuning\n",
        "knn_params = {\"n_neighbors\": [2, 3, 10, 20, 40, 50]}\n",
        "rf_params = {\"max_depth\": [5, 8, 15, None, 10],\n",
        "             \"max_features\": [5, 7, \"auto\", 8],\n",
        "             \"min_samples_split\": [2, 8, 15, 20],\n",
        "             \"n_estimators\": [100, 200, 500, 1000]}\n"
      ],
      "metadata": {
        "id": "2iy5vbiFuo5G"
      },
      "execution_count": null,
      "outputs": []
    },
    {
      "cell_type": "markdown",
      "source": [
        "Meaning:\n",
        "\n",
        "Defines parameter grids for KNN and Random Forest.\n",
        "Uses RandomizedSearchCV to search for the best hyperparameters using 3-fold cross-validation.\n",
        "Prints the best parameters found.\n",
        "Purpose:\n",
        "To optimize model performance by tuning key hyperparameters.\n",
        "\n",
        "Mathematical Intuition:\n",
        "\n",
        "Cross-validation: Reduces overfitting by validating on multiple splits.\n",
        "Random search: Efficiently explores the parameter space."
      ],
      "metadata": {
        "id": "3rxoLaEhwXCV"
      }
    },
    {
      "cell_type": "code",
      "source": [
        "# Models list for Hyperparameter tuning\n",
        "randomcv_models = [('KNN', KNeighborsRegressor(), knn_params),\n",
        "                   (\"RF\", RandomForestRegressor(), rf_params)\n",
        "\n",
        "                   ]"
      ],
      "metadata": {
        "id": "sjGS2ZWGuo8h"
      },
      "execution_count": null,
      "outputs": []
    },
    {
      "cell_type": "code",
      "source": [
        "##Hyperparameter Tuning\n",
        "from sklearn.model_selection import RandomizedSearchCV\n",
        "\n",
        "model_param = {}\n",
        "for name, model, params in randomcv_models:\n",
        "    random = RandomizedSearchCV(estimator=model,\n",
        "                                   param_distributions=params,\n",
        "                                   n_iter=100,\n",
        "                                   cv=3,\n",
        "                                   verbose=2,\n",
        "                                   n_jobs=-1)\n",
        "    random.fit(X_train, y_train)\n",
        "    model_param[name] = random.best_params_\n",
        "\n",
        "for model_name in model_param:\n",
        "    print(f\"---------------- Best Params for {model_name} -------------------\")\n",
        "    print(model_param[model_name])"
      ],
      "metadata": {
        "id": "gUfuKJfPt0lZ"
      },
      "execution_count": null,
      "outputs": []
    },
    {
      "cell_type": "code",
      "source": [
        "## Retraining the models with best parameters\n",
        "models = {\n",
        "    \"Random Forest Regressor\": RandomForestRegressor(n_estimators=100, min_samples_split=2, max_features='auto', max_depth=None,\n",
        "                                                     n_jobs=-1),\n",
        "     \"K-Neighbors Regressor\": KNeighborsRegressor(n_neighbors=10, n_jobs=-1)\n",
        "\n",
        "}\n",
        "for i in range(len(list(models))):\n",
        "    model = list(models.values())[i]\n",
        "    model.fit(X_train, y_train) # Train model\n",
        "\n",
        "    # Make predictions\n",
        "    y_train_pred = model.predict(X_train)\n",
        "    y_test_pred = model.predict(X_test)\n",
        "\n",
        "    model_train_mae , model_train_rmse, model_train_r2 = evaluate_model(y_train, y_train_pred)\n",
        "\n",
        "    model_test_mae , model_test_rmse, model_test_r2 = evaluate_model(y_test, y_test_pred)\n",
        "\n",
        "    print(list(models.keys())[i])\n",
        "\n",
        "    print('Model performance for Training set')\n",
        "    print(\"- Root Mean Squared Error: {:.4f}\".format(model_train_rmse))\n",
        "    print(\"- Mean Absolute Error: {:.4f}\".format(model_train_mae))\n",
        "    print(\"- R2 Score: {:.4f}\".format(model_train_r2))\n",
        "\n",
        "    print('----------------------------------')\n",
        "\n",
        "    print('Model performance for Test set')\n",
        "    print(\"- Root Mean Squared Error: {:.4f}\".format(model_test_rmse))\n",
        "    print(\"- Mean Absolute Error: {:.4f}\".format(model_test_mae))\n",
        "    print(\"- R2 Score: {:.4f}\".format(model_test_r2))\n",
        "\n",
        "    print('='*35)\n",
        "    print('\\n')"
      ],
      "metadata": {
        "id": "1LQo4FuVu2h8"
      },
      "execution_count": null,
      "outputs": []
    },
    {
      "cell_type": "markdown",
      "source": [
        "Meaning:\n",
        "\n",
        "Retrains the best models with their optimal hyperparameters.\n",
        "Evaluates and prints their performance.\n",
        "Purpose:\n",
        "To get the final, most accurate models for your regression problem.\n",
        "\n",
        "Mathematical Intuition:\n",
        "\n",
        "Using tuned hyperparameters should improve generalization and predictive accuracy."
      ],
      "metadata": {
        "id": "PRLXoSQBvSHr"
      }
    },
    {
      "cell_type": "markdown",
      "source": [
        "![Screenshot (3957).png](data:image/png;base64,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)\n",
        "\n",
        "\n",
        "\n",
        "\n",
        "This code prepares your data, compares several regression models, tunes the best ones, and then evaluates their final performance using robust metrics. This ensures you select the most accurate and reliable model for predicting used car prices."
      ],
      "metadata": {
        "id": "E7Fy2EXvwkr8"
      }
    }
  ]
}