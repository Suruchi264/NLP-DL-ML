{
  "nbformat": 4,
  "nbformat_minor": 0,
  "metadata": {
    "colab": {
      "provenance": [],
      "authorship_tag": "ABX9TyPQjBQO8ahjhEFvjdx789vF",
      "include_colab_link": true
    },
    "kernelspec": {
      "name": "python3",
      "display_name": "Python 3"
    },
    "language_info": {
      "name": "python"
    }
  },
  "cells": [
    {
      "cell_type": "markdown",
      "metadata": {
        "id": "view-in-github",
        "colab_type": "text"
      },
      "source": [
        "<a href=\"https://colab.research.google.com/github/Suruchi264/NLP-DL-ML/blob/main/Logging_With_Multiple_Loggers.ipynb\" target=\"_parent\"><img src=\"https://colab.research.google.com/assets/colab-badge.svg\" alt=\"Open In Colab\"/></a>"
      ]
    },
    {
      "cell_type": "markdown",
      "source": [
        "***LOGGING WITH MULTIPLE LOGGERS***\n",
        "\n",
        "You can create multiple loggers for different parts of your application."
      ],
      "metadata": {
        "id": "0EAKSvvZvEvv"
      }
    },
    {
      "cell_type": "code",
      "source": [
        "import logging\n",
        "## create a logger for a module\n",
        "logger1 = logging.getLogger(\"module1\")\n",
        "logger1.setLevel(logging.DEBUG)\n",
        "\n",
        "## create a logger for module 2\n",
        "logger2 = logging.getLogger(\"module2\")\n",
        "logger2.setLevel(logging.WARNING)\n",
        "\n",
        "# Configure logging settings\n",
        "logging.basicConfig(\n",
        "    level=logging.DEBUG,\n",
        "    format=\"%(asctime)s - %(name)s - %(levelname)s - %(message)s\",\n",
        "    datefmt=\"%Y-%m-%d %H:%M:%S\",\n",
        ")"
      ],
      "metadata": {
        "id": "m_he2tNMvMbz"
      },
      "execution_count": 1,
      "outputs": []
    },
    {
      "cell_type": "code",
      "source": [
        "## log message with different loggers\n",
        "logger1.debug(\"This is a debug message from logger1\")\n",
        "logger2.warning(\"This is a warning message from logger2\")\n",
        "logger2.error(\"This is an error message\")"
      ],
      "metadata": {
        "colab": {
          "base_uri": "https://localhost:8080/"
        },
        "id": "gkrhrRF4vznt",
        "outputId": "587d4518-fff0-4054-cfdb-fe3d94d5ff44"
      },
      "execution_count": 2,
      "outputs": [
        {
          "output_type": "stream",
          "name": "stderr",
          "text": [
            "DEBUG:module1:This is a debug message from logger1\n",
            "WARNING:module2:This is a warning message from logger2\n",
            "ERROR:module2:This is an error message\n"
          ]
        }
      ]
    }
  ]
}