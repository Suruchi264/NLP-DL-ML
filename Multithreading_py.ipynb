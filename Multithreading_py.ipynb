{
  "nbformat": 4,
  "nbformat_minor": 0,
  "metadata": {
    "colab": {
      "provenance": [],
      "authorship_tag": "ABX9TyPv9xE3/PoAbqZo0VmGjTvs",
      "include_colab_link": true
    },
    "kernelspec": {
      "name": "python3",
      "display_name": "Python 3"
    },
    "language_info": {
      "name": "python"
    }
  },
  "cells": [
    {
      "cell_type": "markdown",
      "metadata": {
        "id": "view-in-github",
        "colab_type": "text"
      },
      "source": [
        "<a href=\"https://colab.research.google.com/github/Suruchi264/NLP-DL-ML/blob/main/Multithreading_py.ipynb\" target=\"_parent\"><img src=\"https://colab.research.google.com/assets/colab-badge.svg\" alt=\"Open In Colab\"/></a>"
      ]
    },
    {
      "cell_type": "code",
      "execution_count": 3,
      "metadata": {
        "colab": {
          "base_uri": "https://localhost:8080/"
        },
        "id": "Tyzy0ttMz-Ap",
        "outputId": "2a30139f-b27f-4ccf-8c60-f65af63ea1d1"
      },
      "outputs": [
        {
          "output_type": "stream",
          "name": "stdout",
          "text": [
            "Number: 1\n",
            "Number: 2\n",
            "Number: 3\n",
            "Number: 4\n",
            "Number: 5\n",
            "Number: 6\n",
            "Number: 1\n",
            "Number: 2\n",
            "Number: 3\n",
            "Number: 4\n",
            "Number: 5\n",
            "Number: 6\n",
            "Number: 1\n",
            "Number: 2\n",
            "Number: 3\n",
            "Number: 4\n",
            "Number: 5\n",
            "Number: 6\n",
            "Number: 1\n",
            "Number: 2\n",
            "Number: 3\n",
            "Number: 4\n",
            "Number: 5\n",
            "Number: 6\n",
            "Number: 1\n",
            "Number: 2\n",
            "Number: 3\n",
            "Number: 4\n",
            "Number: 5\n",
            "Number: 6\n",
            "Number: 1\n",
            "Number: 2\n",
            "Number: 3\n",
            "Number: 4\n",
            "Number: 5\n",
            "Number: 6\n"
          ]
        }
      ],
      "source": [
        "### Multithreading with thread pool executor\n",
        "\n",
        "from concurrent.futures import ThreadPoolExecutor\n",
        "import time\n",
        "\n",
        "def print_number(number):\n",
        "    time.sleep(1)\n",
        "    return f\"Number: {number}\"\n",
        "\n",
        "number = [1,2,3,4,5,6,1,2,3,4,5,6,1,2,3,4,5,6,1,2,3,4,5,6,1,2,3,4,5,6,1,2,3,4,5,6]\n",
        "\n",
        "with ThreadPoolExecutor(max_workers=3) as executor:\n",
        "    results = executor.map(print_number, number)\n",
        "\n",
        "for result in results:\n",
        "    print(result)"
      ]
    },
    {
      "cell_type": "code",
      "source": [
        "### Multiprocessing with ProcessPoolExecutor\n",
        "\n",
        "from concurrent.futures import ThreadPoolExecutor\n",
        "import time\n",
        "\n",
        "def square_print_number(number):\n",
        "    time.sleep(1)\n",
        "    return f\"Number: {number * number}\"\n",
        "\n",
        "number = [1,2,3,4,5,6,7,8,9]\n",
        "\n",
        "if __name__ == '__main__':\n",
        "    with ThreadPoolExecutor(max_workers=3) as executor:\n",
        "        results = executor.map(square_print_number, number)\n",
        "\n",
        "    for result in results:\n",
        "        print(result)"
      ],
      "metadata": {
        "colab": {
          "base_uri": "https://localhost:8080/"
        },
        "id": "9R_J0Yti5b_9",
        "outputId": "e38042a9-000b-44fd-ca57-a7075dd2a0c8"
      },
      "execution_count": 5,
      "outputs": [
        {
          "output_type": "stream",
          "name": "stdout",
          "text": [
            "Number: 1\n",
            "Number: 4\n",
            "Number: 9\n",
            "Number: 16\n",
            "Number: 25\n",
            "Number: 36\n",
            "Number: 49\n",
            "Number: 64\n",
            "Number: 81\n"
          ]
        }
      ]
    }
  ]
}