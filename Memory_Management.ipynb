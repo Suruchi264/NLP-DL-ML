{
  "nbformat": 4,
  "nbformat_minor": 0,
  "metadata": {
    "colab": {
      "provenance": [],
      "authorship_tag": "ABX9TyP3t4XIhqCHEyyyaEHVFrKQ",
      "include_colab_link": true
    },
    "kernelspec": {
      "name": "python3",
      "display_name": "Python 3"
    },
    "language_info": {
      "name": "python"
    }
  },
  "cells": [
    {
      "cell_type": "markdown",
      "metadata": {
        "id": "view-in-github",
        "colab_type": "text"
      },
      "source": [
        "<a href=\"https://colab.research.google.com/github/Suruchi264/NLP-DL-ML/blob/main/Memory_Management.ipynb\" target=\"_parent\"><img src=\"https://colab.research.google.com/assets/colab-badge.svg\" alt=\"Open In Colab\"/></a>"
      ]
    },
    {
      "cell_type": "markdown",
      "source": [
        "***PYTHON MEMORY MANAGEMENT***\n",
        "\n",
        "Memory management in python involves a combination of automatic garbage collection, reference counting, and various internal optimizations to efficiently manage memory allocation and deallocation. Understanding these mechanisms can help developers write more efficient and robust applications.\n",
        "\n",
        "\n",
        "\n",
        "\n",
        "1.   Key Concepts in Python Memory Management\n",
        "2.   Memory Allocation and Deallocation\n",
        "3.   Reference Counting\n",
        "4.   Garbage Collection\n",
        "5.   The gc Module\n",
        "6.   Memory Management Best Practices"
      ],
      "metadata": {
        "id": "VOKAw2si55yf"
      }
    },
    {
      "cell_type": "markdown",
      "source": [
        "***Reference Counting ***\n",
        "\n",
        "Reference counting is the primary method Python uses to manage memory. Each object in Python maintains a count of reference pointing to it. When the reference count drops to zero, the memory occupied by the objects is deallocated."
      ],
      "metadata": {
        "id": "hNNF9Tea778x"
      }
    },
    {
      "cell_type": "code",
      "source": [
        "### Reference Counting\n",
        "\n",
        "import sys\n",
        "\n",
        "a = []\n",
        "## 2 (one reference from 'a' and one from getrefcount(a))\n",
        "print(sys.getrefcount(a))"
      ],
      "metadata": {
        "colab": {
          "base_uri": "https://localhost:8080/"
        },
        "id": "fmFRboGA7q9U",
        "outputId": "83b588f4-5f4e-48e3-809e-c58bceb58973"
      },
      "execution_count": null,
      "outputs": [
        {
          "output_type": "stream",
          "name": "stdout",
          "text": [
            "2\n"
          ]
        }
      ]
    },
    {
      "cell_type": "code",
      "source": [
        "b=a\n",
        "print(sys.getrefcount(b))\n",
        "\n",
        "\n",
        "# When you call sys.getrefcount(b), a temporary reference to the object that b points to is created internally by the getrefcount() function itself. This temporary reference exists only for the duration of the function call.\n",
        "\n",
        "# So, the four references are:\n",
        "\n",
        "# The variable a\n",
        "# The variable b\n",
        "# The argument passed to sys.getrefcount() (the temporary reference within the function call)\n",
        "# An internal reference held by the CPython implementation (this can vary slightly depending on the Python version and internal optimizations, but it's a common reason for the count being higher than expected).\n",
        "# The key takeaway is that sys.getrefcount() is primarily useful for understanding relative changes in reference counts rather than getting an absolute, precise count that directly reflects just the variables you've defined.\n"
      ],
      "metadata": {
        "colab": {
          "base_uri": "https://localhost:8080/",
          "height": 226
        },
        "id": "iu3Kdwwa8ks9",
        "outputId": "877abfb1-665b-4a2a-935e-ac780d6b1207"
      },
      "execution_count": null,
      "outputs": [
        {
          "output_type": "stream",
          "name": "stdout",
          "text": [
            "5\n"
          ]
        },
        {
          "output_type": "execute_result",
          "data": {
            "text/plain": [
              "\"\\nWhen you call sys.getrefcount(b), a temporary reference to the object that b points to is created internally by the getrefcount() function itself. This temporary reference exists only for the duration of the function call.\\n\\nSo, the four references are:\\n\\nThe variable a\\nThe variable b\\nThe argument passed to sys.getrefcount() (the temporary reference within the function call)\\nAn internal reference held by the CPython implementation (this can vary slightly depending on the Python version and internal optimizations, but it's a common reason for the count being higher than expected).\\nThe key takeaway is that sys.getrefcount() is primarily useful for understanding relative changes in reference counts rather than getting an absolute, precise count that directly reflects just the variables you've defined.\\n\\n\""
            ],
            "application/vnd.google.colaboratory.intrinsic+json": {
              "type": "string"
            }
          },
          "metadata": {},
          "execution_count": 7
        }
      ]
    },
    {
      "cell_type": "code",
      "source": [
        "del b\n",
        "print(sys.getrefcount(a))\n",
        "\n",
        "# before del b was executed, you had the following references to the list object:\n",
        "\n",
        "# a\n",
        "# b\n",
        "# The temporary reference inside the sys.getrefcount() call in the previous cell's execution.\n",
        "# The internal CPython reference.\n",
        "# This gave a total count of 4, as you saw.\n",
        "\n",
        "# Now, when you execute del b, you are removing the variable name b. However, the object that b was referencing still exists as long as there are other references to it.\n",
        "\n",
        "# When you then call print(sys.getrefcount(a)):\n",
        "\n",
        "# The variable a still references the list object.\n",
        "# A new temporary reference is created inside this new sys.getrefcount() call.\n",
        "# The internal CPython reference still exists.\n",
        "# The temporary reference from the previous sys.getrefcount(b) call might still be lingering in the execution context for a brief period before being fully cleaned up.\n",
        "# There might be other internal references created by the interpreter during the execution of the cells.\n",
        "# The exact behavior of sys.getrefcount() can be influenced by the internal workings of the CPython interpreter and how it manages temporary references and the execution stack. Because of these internal mechanisms, the count can appear higher than just the explicit variables you've defined.\n",
        "\n",
        "# Again, the most important thing to understand is the relative change in reference counts as you add and remove references, rather than relying on sys.getrefcount() for a precise absolute count in all scenarios."
      ],
      "metadata": {
        "colab": {
          "base_uri": "https://localhost:8080/"
        },
        "id": "_iWbhZbM9Z27",
        "outputId": "69c55aa2-3787-4c43-8a66-72d1915dd921"
      },
      "execution_count": null,
      "outputs": [
        {
          "output_type": "stream",
          "name": "stdout",
          "text": [
            "5\n"
          ]
        }
      ]
    },
    {
      "cell_type": "code",
      "metadata": {
        "id": "17566bf7"
      },
      "source": [
        "del b"
      ],
      "execution_count": null,
      "outputs": []
    },
    {
      "cell_type": "code",
      "source": [
        "print(sys.getrefcount(a))"
      ],
      "metadata": {
        "colab": {
          "base_uri": "https://localhost:8080/"
        },
        "id": "gFvcJySd_MJg",
        "outputId": "d0fd1682-3b87-40a4-e1c9-25212eb10514"
      },
      "execution_count": null,
      "outputs": [
        {
          "output_type": "stream",
          "name": "stdout",
          "text": [
            "4\n"
          ]
        }
      ]
    },
    {
      "cell_type": "markdown",
      "source": [
        "***GARBAGE COLLECTION***\n",
        "\n",
        "Python includes a cyclic garbage collector to handle reference cycles. Reference cycles occur when objects reference each other, preventing their reference counts from reaching zero."
      ],
      "metadata": {
        "id": "pVZClOxR_wcX"
      }
    },
    {
      "cell_type": "code",
      "source": [
        "import gc\n",
        "## enable the garbage collection\n",
        "gc.enable()"
      ],
      "metadata": {
        "id": "BxNhAIb0MxNm"
      },
      "execution_count": null,
      "outputs": []
    },
    {
      "cell_type": "code",
      "source": [
        "gc.disable()"
      ],
      "metadata": {
        "id": "_Jn_COcuOllE"
      },
      "execution_count": null,
      "outputs": []
    },
    {
      "cell_type": "code",
      "source": [
        "gc.collect()"
      ],
      "metadata": {
        "colab": {
          "base_uri": "https://localhost:8080/"
        },
        "id": "_f06-ZalOnl8",
        "outputId": "78de405d-2d31-40aa-ff90-23c144d8c2fe"
      },
      "execution_count": null,
      "outputs": [
        {
          "output_type": "execute_result",
          "data": {
            "text/plain": [
              "1649"
            ]
          },
          "metadata": {},
          "execution_count": 12
        }
      ]
    },
    {
      "cell_type": "code",
      "source": [
        "### get garbage collection stats\n",
        "print(gc.get_stats())"
      ],
      "metadata": {
        "colab": {
          "base_uri": "https://localhost:8080/"
        },
        "id": "ZrYIx9diOwLU",
        "outputId": "d99385ce-96dc-4c53-b346-c6d8beaf53bd"
      },
      "execution_count": null,
      "outputs": [
        {
          "output_type": "stream",
          "name": "stdout",
          "text": [
            "[{'collections': 713, 'collected': 6704, 'uncollectable': 0}, {'collections': 64, 'collected': 2753, 'uncollectable': 0}, {'collections': 6, 'collected': 1731, 'uncollectable': 0}]\n"
          ]
        }
      ]
    },
    {
      "cell_type": "code",
      "source": [
        "print(gc.garbage)"
      ],
      "metadata": {
        "colab": {
          "base_uri": "https://localhost:8080/"
        },
        "id": "0m07akxWWhLt",
        "outputId": "fd79e5b9-7f67-4d53-85d5-0f147bd94a7b"
      },
      "execution_count": null,
      "outputs": [
        {
          "output_type": "stream",
          "name": "stdout",
          "text": [
            "[]\n"
          ]
        }
      ]
    },
    {
      "cell_type": "markdown",
      "source": [
        "***MEMORY MANAGEMENT BEST PRACTICES***\n",
        "\n",
        "\n",
        "\n",
        "1.   **Use Local Vairables**: Local variables have a shorter lifespan and are freed sooner than global variables.\n",
        "\n",
        "\n",
        "2.   **Avoid Circular References**: Circular references can lead to memory leaks if not properly managed.\n",
        "\n",
        "\n",
        "3.   **Use Generators**: generators produce items one at a time and only keeps one item in memory at a tiime, making them memory efficient.\n",
        "\n",
        "\n",
        "4.   **Explicitly Delete Objects**: Use the del statement to delete variables and objects explicitly.\n",
        "\n",
        "\n",
        "5.   **Profile Memory Usage**: Use memory profiling tools like tracemalloc and memory_profiler to identify memory leaks and optimize memory usage."
      ],
      "metadata": {
        "id": "JL4E6Z37Wopt"
      }
    },
    {
      "cell_type": "code",
      "source": [
        "## Handling circular references\n",
        "import gc\n",
        "\n",
        "class MyObject:\n",
        "    def __init__(self,name):\n",
        "        self.name = name\n",
        "        print(f\"Object {self.name} created\")\n",
        "\n",
        "    def __del__(self):\n",
        "        print(f\"Object {self.name} deleted\")\n",
        "\n",
        "## create circular reference\n",
        "obj1 = MyObject(\"obj1\")\n",
        "obj2 = MyObject(\"obj2\")\n",
        "obj1.ref = obj2\n",
        "obj2.ref = obj1\n",
        "\n",
        "del obj1\n",
        "del obj2\n",
        "\n",
        "## Manually trigger the garbage collection\n",
        "gc.collect()"
      ],
      "metadata": {
        "id": "XkCGqGuNYlX2",
        "colab": {
          "base_uri": "https://localhost:8080/"
        },
        "outputId": "5527fcae-f1a8-44a3-f806-f36cd952f563"
      },
      "execution_count": 1,
      "outputs": [
        {
          "output_type": "stream",
          "name": "stdout",
          "text": [
            "Object obj1 created\n",
            "Object obj2 created\n",
            "Object obj1 deleted\n",
            "Object obj2 deleted\n"
          ]
        },
        {
          "output_type": "execute_result",
          "data": {
            "text/plain": [
              "2"
            ]
          },
          "metadata": {},
          "execution_count": 1
        }
      ]
    },
    {
      "cell_type": "code",
      "source": [
        "## Generators for memory efficiency\n",
        "## Generatots allow you to produce items one at a time, using memory efficiently by only keeping one item in a memory at a time.\n",
        "\n",
        "def generate_numbers(n):\n",
        "    for i in range(n):\n",
        "        yield i\n",
        "\n",
        "## using the generator\n",
        "for num in generate_numbers(10000):\n",
        "    print(num)\n",
        "    if num>10:\n",
        "        break"
      ],
      "metadata": {
        "colab": {
          "base_uri": "https://localhost:8080/"
        },
        "id": "rAq8I9KWwdbA",
        "outputId": "64d5aec2-655e-4df8-b480-3ed2ad83b561"
      },
      "execution_count": 2,
      "outputs": [
        {
          "output_type": "stream",
          "name": "stdout",
          "text": [
            "0\n",
            "1\n",
            "2\n",
            "3\n",
            "4\n",
            "5\n",
            "6\n",
            "7\n",
            "8\n",
            "9\n",
            "10\n",
            "11\n"
          ]
        }
      ]
    },
    {
      "cell_type": "code",
      "source": [
        "## Profiling Memory Usage with tracemalloc\n",
        "\n",
        "import tracemalloc\n",
        "def create_list():\n",
        "    return [i for i in range(10000)]\n",
        "\n",
        "def main():\n",
        "    tracemalloc.start()\n",
        "    create_list()\n",
        "    snapshot = tracemalloc.take_snapshot()\n",
        "    top_stats = snapshot.statistics('lineno')\n",
        "\n",
        "    print(\"[ Top 10 ]\")\n",
        "    for stat in top_stats[::]:\n",
        "        print(stat)\n",
        "\n",
        "main()"
      ],
      "metadata": {
        "colab": {
          "base_uri": "https://localhost:8080/"
        },
        "id": "nTwcO436xSyX",
        "outputId": "1c56724c-45d1-4199-e346-4ba061ae5ccb"
      },
      "execution_count": 4,
      "outputs": [
        {
          "output_type": "stream",
          "name": "stdout",
          "text": [
            "[ Top 10 ]\n",
            "/usr/local/lib/python3.11/dist-packages/IPython/core/compilerop.py:101: size=10.9 KiB, count=107, average=104 B\n",
            "/usr/local/lib/python3.11/dist-packages/zmq/sugar/attrsettr.py:44: size=2310 B, count=42, average=55 B\n",
            "/usr/lib/python3.11/codeop.py:125: size=2234 B, count=23, average=97 B\n",
            "/usr/lib/python3.11/json/decoder.py:353: size=1959 B, count=24, average=82 B\n",
            "/usr/local/lib/python3.11/dist-packages/zmq/utils/jsonapi.py:24: size=1795 B, count=11, average=163 B\n",
            "/usr/local/lib/python3.11/dist-packages/traitlets/traitlets.py:744: size=1551 B, count=22, average=70 B\n",
            "/usr/local/lib/python3.11/dist-packages/debugpy/_vendored/pydevd/_pydevd_bundle/pydevd_net_command.py:101: size=1509 B, count=1, average=1509 B\n",
            "/usr/local/lib/python3.11/dist-packages/debugpy/_vendored/pydevd/_pydevd_bundle/_debug_adapter/pydevd_schema.py:11968: size=1456 B, count=7, average=208 B\n",
            "/usr/local/lib/python3.11/dist-packages/traitlets/traitlets.py:1535: size=1245 B, count=18, average=69 B\n",
            "/usr/local/lib/python3.11/dist-packages/IPython/core/compilerop.py:159: size=1173 B, count=14, average=84 B\n",
            "/usr/local/lib/python3.11/dist-packages/zmq/sugar/socket.py:732: size=1104 B, count=6, average=184 B\n",
            "/usr/local/lib/python3.11/dist-packages/debugpy/_vendored/pydevd/_pydevd_bundle/pydevd_comm.py:227: size=1057 B, count=1, average=1057 B\n",
            "/usr/local/lib/python3.11/dist-packages/jupyter_client/session.py:917: size=878 B, count=4, average=220 B\n",
            "/usr/local/lib/python3.11/dist-packages/jupyter_client/jsonutil.py:88: size=812 B, count=14, average=58 B\n",
            "/usr/local/lib/python3.11/dist-packages/IPython/core/interactiveshell.py:3302: size=794 B, count=2, average=397 B\n",
            "/usr/local/lib/python3.11/dist-packages/google/colab/_variable_inspector.py:28: size=768 B, count=1, average=768 B\n",
            "/usr/lib/python3.11/threading.py:265: size=760 B, count=2, average=380 B\n",
            "/usr/local/lib/python3.11/dist-packages/ipykernel/iostream.py:230: size=568 B, count=6, average=95 B\n",
            "/usr/local/lib/python3.11/dist-packages/IPython/core/interactiveshell.py:3004: size=536 B, count=4, average=134 B\n",
            "/usr/lib/python3.11/asyncio/events.py:84: size=512 B, count=6, average=85 B\n",
            "/usr/local/lib/python3.11/dist-packages/ipykernel/iostream.py:219: size=480 B, count=5, average=96 B\n",
            "/usr/local/lib/python3.11/dist-packages/IPython/core/interactiveshell.py:3257: size=440 B, count=2, average=220 B\n",
            "/usr/local/lib/python3.11/dist-packages/ipykernel/kernelbase.py:712: size=424 B, count=2, average=212 B\n",
            "/usr/local/lib/python3.11/dist-packages/IPython/core/history.py:709: size=396 B, count=1, average=396 B\n",
            "/usr/local/lib/python3.11/dist-packages/ipykernel/iostream.py:286: size=360 B, count=5, average=72 B\n",
            "/usr/local/lib/python3.11/dist-packages/traitlets/traitlets.py:1502: size=360 B, count=3, average=120 B\n",
            "/usr/local/lib/python3.11/dist-packages/ipykernel/kernelbase.py:404: size=352 B, count=1, average=352 B\n",
            "/usr/local/lib/python3.11/dist-packages/ipykernel/iostream.py:588: size=344 B, count=5, average=69 B\n",
            "/usr/local/lib/python3.11/dist-packages/IPython/core/interactiveshell.py:3473: size=320 B, count=1, average=320 B\n",
            "/usr/local/lib/python3.11/dist-packages/IPython/core/interactiveshell.py:3125: size=296 B, count=4, average=74 B\n",
            "/usr/local/lib/python3.11/dist-packages/IPython/core/interactiveshell.py:3124: size=296 B, count=4, average=74 B\n",
            "/usr/local/lib/python3.11/dist-packages/ipykernel/zmqshell.py:528: size=288 B, count=4, average=72 B\n",
            "/usr/lib/python3.11/asyncio/base_events.py:782: size=288 B, count=3, average=96 B\n",
            "/usr/local/lib/python3.11/dist-packages/tornado/queues.py:248: size=288 B, count=2, average=144 B\n",
            "/usr/lib/python3.11/threading.py:258: size=280 B, count=2, average=140 B\n",
            "/usr/local/lib/python3.11/dist-packages/IPython/core/interactiveshell.py:3358: size=279 B, count=2, average=140 B\n",
            "/usr/local/lib/python3.11/dist-packages/ipykernel/kernelbase.py:499: size=272 B, count=1, average=272 B\n",
            "/usr/lib/python3.11/threading.py:320: size=264 B, count=6, average=44 B\n",
            "/usr/local/lib/python3.11/dist-packages/zmq/sugar/socket.py:729: size=248 B, count=3, average=83 B\n",
            "/usr/local/lib/python3.11/dist-packages/ipykernel/kernelbase.py:510: size=240 B, count=1, average=240 B\n",
            "/usr/lib/python3.11/logging/__init__.py:1572: size=240 B, count=1, average=240 B\n",
            "/usr/local/lib/python3.11/dist-packages/tornado/platform/asyncio.py:235: size=208 B, count=3, average=69 B\n",
            "/usr/local/lib/python3.11/dist-packages/jupyter_client/session.py:939: size=208 B, count=1, average=208 B\n",
            "/usr/local/lib/python3.11/dist-packages/jupyter_client/adapter.py:389: size=208 B, count=1, average=208 B\n",
            "/usr/local/lib/python3.11/dist-packages/debugpy/_vendored/pydevd/_pydevd_bundle/_debug_adapter/pydevd_schema.py:7302: size=208 B, count=1, average=208 B\n",
            "/usr/lib/python3.11/asyncio/futures.py:418: size=200 B, count=5, average=40 B\n",
            "/usr/local/lib/python3.11/dist-packages/debugpy/_vendored/pydevd/_pydevd_bundle/pydevd_comm.py:689: size=200 B, count=1, average=200 B\n",
            "/usr/local/lib/python3.11/dist-packages/ipykernel/kernelbase.py:535: size=152 B, count=1, average=152 B\n",
            "/usr/local/lib/python3.11/dist-packages/IPython/core/interactiveshell.py:3553: size=152 B, count=1, average=152 B\n",
            "/usr/local/lib/python3.11/dist-packages/IPython/core/interactiveshell.py:3449: size=152 B, count=1, average=152 B\n",
            "/usr/local/lib/python3.11/dist-packages/IPython/core/interactiveshell.py:3138: size=152 B, count=1, average=152 B\n",
            "/usr/lib/python3.11/asyncio/futures.py:394: size=152 B, count=1, average=152 B\n",
            "/usr/lib/python3.11/asyncio/futures.py:387: size=152 B, count=1, average=152 B\n",
            "/usr/lib/python3.11/asyncio/futures.py:381: size=152 B, count=1, average=152 B\n",
            "/tmp/ipython-input-4-2822239018.py:7: size=152 B, count=1, average=152 B\n",
            "/tmp/ipython-input-4-2822239018.py:4: size=152 B, count=1, average=152 B\n",
            "/usr/local/lib/python3.11/dist-packages/debugpy/_vendored/pydevd/_pydevd_bundle/pydevd_net_command_factory_json.py:344: size=144 B, count=2, average=72 B\n",
            "/usr/lib/python3.11/asyncio/base_events.py:428: size=144 B, count=1, average=144 B\n",
            "/usr/local/lib/python3.11/dist-packages/debugpy/_vendored/pydevd/_pydevd_bundle/pydevd_process_net_command_json.py:198: size=137 B, count=2, average=68 B\n",
            "/usr/local/lib/python3.11/dist-packages/ipykernel/kernelbase.py:293: size=128 B, count=2, average=64 B\n",
            "/usr/local/lib/python3.11/dist-packages/debugpy/_vendored/pydevd/_pydevd_bundle/_debug_adapter/pydevd_schema.py:11811: size=128 B, count=2, average=64 B\n",
            "/usr/lib/python3.11/threading.py:626: size=128 B, count=2, average=64 B\n",
            "/usr/local/lib/python3.11/dist-packages/debugpy/_vendored/pydevd/_pydevd_bundle/_debug_adapter/pydevd_schema.py:16433: size=120 B, count=2, average=60 B\n",
            "/usr/local/lib/python3.11/dist-packages/zmq/eventloop/zmqstream.py:619: size=120 B, count=1, average=120 B\n",
            "/usr/local/lib/python3.11/dist-packages/zmq/eventloop/zmqstream.py:364: size=120 B, count=1, average=120 B\n",
            "/usr/local/lib/python3.11/dist-packages/debugpy/_vendored/pydevd/_pydevd_bundle/pydevd_comm.py:223: size=118 B, count=1, average=118 B\n",
            "/usr/local/lib/python3.11/dist-packages/jupyter_client/session.py:855: size=111 B, count=2, average=56 B\n",
            "/usr/local/lib/python3.11/dist-packages/zmq/sugar/socket.py:674: size=96 B, count=2, average=48 B\n",
            "/usr/local/lib/python3.11/dist-packages/jupyter_client/session.py:151: size=96 B, count=2, average=48 B\n",
            "/usr/lib/python3.11/threading.py:101: size=96 B, count=2, average=48 B\n",
            "/usr/lib/python3.11/asyncio/base_events.py:1920: size=96 B, count=2, average=48 B\n",
            "/usr/local/lib/python3.11/dist-packages/jupyter_client/session.py:658: size=96 B, count=1, average=96 B\n",
            "/usr/local/lib/python3.11/dist-packages/ipykernel/kernelbase.py:1086: size=90 B, count=1, average=90 B\n",
            "/usr/local/lib/python3.11/dist-packages/jupyter_client/session.py:861: size=88 B, count=2, average=44 B\n",
            "/usr/local/lib/python3.11/dist-packages/google/colab/_shell.py:93: size=83 B, count=1, average=83 B\n",
            "/usr/lib/python3.11/threading.py:262: size=72 B, count=1, average=72 B\n",
            "/usr/lib/python3.11/threading.py:254: size=72 B, count=1, average=72 B\n",
            "/usr/lib/python3.11/threading.py:249: size=72 B, count=1, average=72 B\n",
            "/usr/lib/python3.11/threading.py:248: size=72 B, count=1, average=72 B\n",
            "/usr/local/lib/python3.11/dist-packages/debugpy/_vendored/pydevd/_pydevd_bundle/pydevd_net_command_factory_xml.py:221: size=64 B, count=2, average=32 B\n",
            "/usr/local/lib/python3.11/dist-packages/zmq/sugar/socket.py:733: size=64 B, count=1, average=64 B\n",
            "/usr/local/lib/python3.11/dist-packages/zmq/sugar/socket.py:659: size=64 B, count=1, average=64 B\n",
            "/usr/local/lib/python3.11/dist-packages/ipykernel/ipkernel.py:317: size=64 B, count=1, average=64 B\n",
            "/usr/local/lib/python3.11/dist-packages/ipykernel/ipkernel.py:316: size=64 B, count=1, average=64 B\n",
            "/usr/local/lib/python3.11/dist-packages/ipykernel/ipkernel.py:238: size=64 B, count=1, average=64 B\n",
            "/usr/local/lib/python3.11/dist-packages/ipykernel/ipkernel.py:235: size=64 B, count=1, average=64 B\n",
            "/usr/local/lib/python3.11/dist-packages/IPython/core/interactiveshell.py:3537: size=64 B, count=1, average=64 B\n",
            "/usr/local/lib/python3.11/dist-packages/IPython/core/interactiveshell.py:3204: size=64 B, count=1, average=64 B\n",
            "/usr/local/lib/python3.11/dist-packages/IPython/core/interactiveshell.py:3199: size=64 B, count=1, average=64 B\n",
            "/usr/lib/python3.11/queue.py:165: size=64 B, count=1, average=64 B\n",
            "/usr/local/lib/python3.11/dist-packages/IPython/core/interactiveshell.py:3468: size=56 B, count=2, average=28 B\n",
            "/usr/local/lib/python3.11/dist-packages/jupyter_client/session.py:942: size=56 B, count=1, average=56 B\n",
            "/usr/lib/python3.11/tracemalloc.py:558: size=56 B, count=1, average=56 B\n",
            "/usr/lib/python3.11/selectors.py:466: size=56 B, count=1, average=56 B\n",
            "/usr/lib/python3.11/concurrent/futures/_base.py:335: size=56 B, count=1, average=56 B\n",
            "/usr/lib/python3.11/concurrent/futures/_base.py:334: size=56 B, count=1, average=56 B\n",
            "/usr/lib/python3.11/concurrent/futures/_base.py:330: size=56 B, count=1, average=56 B\n",
            "/usr/local/lib/python3.11/dist-packages/IPython/core/history.py:732: size=52 B, count=1, average=52 B\n",
            "/usr/local/lib/python3.11/dist-packages/ipykernel/iostream.py:118: size=48 B, count=1, average=48 B\n",
            "/usr/local/lib/python3.11/dist-packages/IPython/core/interactiveshell.py:3464: size=48 B, count=1, average=48 B\n",
            "/usr/lib/python3.11/selectors.py:468: size=36 B, count=1, average=36 B\n",
            "/usr/local/lib/python3.11/dist-packages/debugpy/_vendored/pydevd/_pydevd_bundle/pydevd_comm.py:222: size=35 B, count=1, average=35 B\n",
            "/usr/local/lib/python3.11/dist-packages/IPython/core/interactiveshell.py:3425: size=32 B, count=2, average=16 B\n",
            "/usr/local/lib/python3.11/dist-packages/jupyter_client/session.py:516: size=32 B, count=1, average=32 B\n",
            "/usr/local/lib/python3.11/dist-packages/ipykernel/iostream.py:516: size=32 B, count=1, average=32 B\n",
            "/usr/local/lib/python3.11/dist-packages/IPython/core/interactiveshell.py:3459: size=32 B, count=1, average=32 B\n",
            "/usr/local/lib/python3.11/dist-packages/IPython/core/compilerop.py:178: size=32 B, count=1, average=32 B\n",
            "/usr/lib/python3.11/concurrent/futures/_base.py:421: size=32 B, count=1, average=32 B\n",
            "/usr/local/lib/python3.11/dist-packages/IPython/core/compilerop.py:157: size=28 B, count=1, average=28 B\n"
          ]
        }
      ]
    }
  ]
}