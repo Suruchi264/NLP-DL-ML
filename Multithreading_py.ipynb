{
  "nbformat": 4,
  "nbformat_minor": 0,
  "metadata": {
    "colab": {
      "provenance": [],
      "authorship_tag": "ABX9TyPCJ8ETLpiJWXOlSSVdPdFU",
      "include_colab_link": true
    },
    "kernelspec": {
      "name": "python3",
      "display_name": "Python 3"
    },
    "language_info": {
      "name": "python"
    }
  },
  "cells": [
    {
      "cell_type": "markdown",
      "metadata": {
        "id": "view-in-github",
        "colab_type": "text"
      },
      "source": [
        "<a href=\"https://colab.research.google.com/github/Suruchi264/NLP-DL-ML/blob/main/Multithreading_py.ipynb\" target=\"_parent\"><img src=\"https://colab.research.google.com/assets/colab-badge.svg\" alt=\"Open In Colab\"/></a>"
      ]
    },
    {
      "cell_type": "code",
      "source": [
        "### Multithreading\n",
        "## When to use Multi Threading\n",
        "### I/O-bound tasks: Tasks that spend more time waiting for I/O operations(e.g., file operations, network requests).\n",
        "## COncurrent execution - When you want to improve the thoughput of your application by performing multiple operations concurrently.\n",
        "\n",
        "import threading\n",
        "import time\n",
        "\n",
        "def print_numbers():\n",
        "    for i in range(5):\n",
        "        time.sleep(2)\n",
        "        print(f\"Number:{i}\")\n",
        "\n",
        "def print_letter():\n",
        "    for letter in \"abcde\":\n",
        "        time.sleep(2)\n",
        "        print(f\"Letter:{letter}\")\n",
        "\n",
        "## Create 2 threads\n",
        "t1 = threading.Thread(target=print_numbers)\n",
        "t2 = threading.Thread(target=print_letter)\n",
        "\n",
        "\n",
        "t = time.time()\n",
        "## Start the threads\n",
        "t1.start()\n",
        "t2.start()\n",
        "\n",
        "## Wait for the threads to complete\n",
        "## Wait for the threads to finish\n",
        "t1.join()\n",
        "t2.join()\n",
        "\n",
        "# print_numbers()\n",
        "# print_letter()\n",
        "finished_time = time.time()-t\n",
        "print(f\"Time taken: {finished_time}\")"
      ],
      "metadata": {
        "colab": {
          "base_uri": "https://localhost:8080/"
        },
        "id": "ilKjcPexsoSU",
        "outputId": "88200fdc-0c83-4a15-b7f0-0cc22372f27d"
      },
      "execution_count": 8,
      "outputs": [
        {
          "output_type": "stream",
          "name": "stdout",
          "text": [
            "Number:0Letter:a\n",
            "\n",
            "Letter:b\n",
            "Number:1\n",
            "Letter:c\n",
            "Number:2\n",
            "Letter:dNumber:3\n",
            "\n",
            "Number:4\n",
            "Letter:e\n",
            "Time taken: 10.003830671310425\n"
          ]
        }
      ]
    }
  ]
}