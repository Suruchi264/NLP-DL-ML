{
  "nbformat": 4,
  "nbformat_minor": 0,
  "metadata": {
    "colab": {
      "provenance": [],
      "authorship_tag": "ABX9TyN8YuvLa0bi2KZ83/hpD5Sk",
      "include_colab_link": true
    },
    "kernelspec": {
      "name": "python3",
      "display_name": "Python 3"
    },
    "language_info": {
      "name": "python"
    }
  },
  "cells": [
    {
      "cell_type": "markdown",
      "metadata": {
        "id": "view-in-github",
        "colab_type": "text"
      },
      "source": [
        "<a href=\"https://colab.research.google.com/github/Suruchi264/NLP-DL-ML/blob/main/Logging.ipynb\" target=\"_parent\"><img src=\"https://colab.research.google.com/assets/colab-badge.svg\" alt=\"Open In Colab\"/></a>"
      ]
    },
    {
      "cell_type": "markdown",
      "source": [
        "***PYTHON LOGGING***\n",
        "\n",
        "Logging is a crucial aspect of any application, providing a way to tract events, errors, and operational information. Python's built-in loggin module offers a flexible framework for emitting log measures from python programs."
      ],
      "metadata": {
        "id": "hAA3bZs1VXZl"
      }
    },
    {
      "cell_type": "code",
      "source": [
        "import logging\n",
        "\n",
        "## Configure the basic logging settings\n",
        "logging.basicConfig(level=logging.DEBUG)\n",
        "\n",
        "## log messages with different severity levels\n",
        "logging.debug('This is a debug message')\n",
        "logging.info('This is an info message')\n",
        "logging.warning('This is a warning message')\n",
        "logging.error('This is an error message')\n",
        "logging.critical('This is a critical message')"
      ],
      "metadata": {
        "colab": {
          "base_uri": "https://localhost:8080/"
        },
        "id": "PFZmmHlZVwr5",
        "outputId": "e586e97d-8fb5-48fa-cdda-857afb3a37c8"
      },
      "execution_count": 1,
      "outputs": [
        {
          "output_type": "stream",
          "name": "stderr",
          "text": [
            "WARNING:root:This is a warning message\n",
            "ERROR:root:This is an error message\n",
            "CRITICAL:root:This is a critical message\n"
          ]
        }
      ]
    },
    {
      "cell_type": "markdown",
      "source": [
        "***LOG LEVELS***\n",
        "\n",
        "Python's logging module has several log levels indicating the severity of events. The default levels are:\n",
        "\n",
        "\n",
        "\n",
        "*   ***DEBUG*** - Detailed information, typically of interest only when diagnosing problems.\n",
        "\n",
        "\n",
        "*  ***INFO*** - Confirmation that things are working as expected.\n",
        "\n",
        "\n",
        "*  ***WARNING*** - An indication that something unexpected happened or indicative of some problem in the near future(e.g.,'disk space low'). The software is still working as expected\n",
        "\n",
        "\n",
        "*   ***ERROR*** - Due to a more serious problem, the software has not been able to perform some function.\n",
        "\n",
        "\n",
        "*   ***CRITICAL*** - A very serious error, indicating that the program itself maybe unable to continue reading.\n"
      ],
      "metadata": {
        "id": "MsPc_vZyWiD7"
      }
    },
    {
      "cell_type": "code",
      "source": [
        "## Configuring logging\n",
        "import logging\n",
        "\n",
        "# Check if the root logger already has handlers configured\n",
        "if not logging.root.handlers:\n",
        "    logging.basicConfig(\n",
        "        filename='app.log',\n",
        "        filemode='w',\n",
        "        level=logging.DEBUG,\n",
        "        format='%(asctime)s - %(name)s - %(levelname)s - %(message)s',\n",
        "        datefmt='%Y-%m-%d %H:%M:%S'\n",
        "    )\n",
        "    print(\"Logging configured to app.log\") # Add a print statement to confirm configuration\n",
        "else:\n",
        "    print(\"Root logger already configured, skipping basicConfig.\")\n",
        "\n",
        "## log messages with different severity levels\n",
        "logging.debug('This is a debug message')\n",
        "logging.info('This is an info message')\n",
        "logging.warning('This is a warning message')\n",
        "logging.error('This is an error message')\n",
        "logging.critical('This is a critical message')"
      ],
      "metadata": {
        "colab": {
          "base_uri": "https://localhost:8080/"
        },
        "id": "5MMtNbNeYM9A",
        "outputId": "a68ddf96-b5f4-4679-9789-ebd44ff11dea"
      },
      "execution_count": 1,
      "outputs": [
        {
          "output_type": "stream",
          "name": "stderr",
          "text": [
            "WARNING:root:This is a warning message\n",
            "ERROR:root:This is an error message\n",
            "CRITICAL:root:This is a critical message\n"
          ]
        },
        {
          "output_type": "stream",
          "name": "stdout",
          "text": [
            "Root logger already configured, skipping basicConfig.\n"
          ]
        }
      ]
    },
    {
      "cell_type": "markdown",
      "metadata": {
        "id": "d32f23c9"
      },
      "source": [
        "You can restart the kernel by clicking \"Runtime\" -> \"Restart runtime\" in the Colab menu, or by running the following cell:"
      ]
    },
    {
      "cell_type": "code",
      "metadata": {
        "id": "1c259367"
      },
      "source": [
        "import os\n",
        "os.kill(os.getpid(), 9)"
      ],
      "execution_count": null,
      "outputs": []
    },
    {
      "cell_type": "code",
      "source": [],
      "metadata": {
        "id": "Q6LyOv3Pe8Z2"
      },
      "execution_count": null,
      "outputs": []
    },
    {
      "cell_type": "code",
      "metadata": {
        "colab": {
          "base_uri": "https://localhost:8080/"
        },
        "id": "d795cd89",
        "outputId": "30aff785-5e2b-43ff-b149-cc43a7c02afb"
      },
      "source": [
        "import os\n",
        "print(os.listdir())"
      ],
      "execution_count": 2,
      "outputs": [
        {
          "output_type": "stream",
          "name": "stdout",
          "text": [
            "['.config', 'sample_data']\n"
          ]
        }
      ]
    },
    {
      "cell_type": "markdown",
      "metadata": {
        "id": "24fdb4d1"
      },
      "source": [
        "Please restart the runtime using the cell below, or by going to \"Runtime\" -> \"Restart runtime\" in the Colab menu. After restarting, please run **only** the code cell that contains the `logging.basicConfig` call (cell `5MMtNbNeYM9A`) and then the cell to list the directory contents (cell `d795cd89`) to check for `app.log`."
      ]
    },
    {
      "cell_type": "code",
      "metadata": {
        "id": "909467ce"
      },
      "source": [
        "import os\n",
        "os.kill(os.getpid(), 9)"
      ],
      "execution_count": null,
      "outputs": []
    },
    {
      "cell_type": "code",
      "metadata": {
        "colab": {
          "base_uri": "https://localhost:8080/"
        },
        "id": "b90eb0cb",
        "outputId": "4541a476-624f-4bb2-99b6-d9f853f4f32e"
      },
      "source": [
        "import logging # Import the logging module to handle logging\n",
        "import os # Import the os module to interact with the operating system (used here for checking handlers)\n",
        "\n",
        "# Check if the root logger already has handlers configured\n",
        "# This check is included for robustness, but after a fresh restart\n",
        "# and running only this cell, it should not find handlers initially.\n",
        "if not logging.root.handlers: # Check if the root logger has any handlers attached to it\n",
        "    logging.basicConfig( # If no handlers are present, configure the root logger\n",
        "        filename='app.log', # Specify the filename for the log file\n",
        "        filemode='w', # Set the file mode to 'w' (write mode), which overwrites the file each time\n",
        "        level=logging.DEBUG, # Set the minimum logging level to DEBUG, meaning all messages from DEBUG up will be logged\n",
        "        format='%(asctime)s - %(name)s - %(levelname)s - %(message)s', # Define the format of the log messages\n",
        "        datefmt='%Y-%m-%d %H:%M:%S' # Define the format for the timestamp in the log messages\n",
        "    )\n",
        "    print(\"Logging configured to app.log\") # Print a confirmation message to the console\n",
        "else: # If the root logger already has handlers\n",
        "    print(\"Root logger already configured before this cell executed.\") # Print a message indicating that basicConfig was skipped\n",
        "\n",
        "\n",
        "# Log a message to test the configuration\n",
        "logging.info(\"Test message after configuring to file.\") # Log an informational message using the root logger"
      ],
      "execution_count": 2,
      "outputs": [
        {
          "output_type": "stream",
          "name": "stdout",
          "text": [
            "Root logger already configured before this cell executed.\n"
          ]
        }
      ]
    },
    {
      "cell_type": "code",
      "metadata": {
        "colab": {
          "base_uri": "https://localhost:8080/"
        },
        "id": "55b64d10",
        "outputId": "1122091c-91a4-4870-d87b-e35ec7a8e102"
      },
      "source": [
        "import logging # Import the logging module to handle logging\n",
        "import os # Import the os module to interact with the operating system (used here for checking handlers, though not directly used in the logging setup in this cell)\n",
        "\n",
        "# Create a custom logger\n",
        "file_logger = logging.getLogger('file_logger') # Get a logger instance named 'file_logger'. If it doesn't exist, it's created.\n",
        "file_logger.setLevel(logging.DEBUG) # Set the minimum logging level for this logger to DEBUG. Messages with severity DEBUG and higher will be processed by this logger.\n",
        "\n",
        "# Create a file handler\n",
        "file_handler = logging.FileHandler('app.log', mode='w') # Create a FileHandler instance that will write log messages to the file 'app.log'. 'mode='w'' means the file will be opened in write mode, overwriting existing content each time the handler is created.\n",
        "file_handler.setLevel(logging.DEBUG) # Set the minimum logging level for this handler to DEBUG. This handler will process messages with severity DEBUG and higher that are passed to it by the logger.\n",
        "\n",
        "# Create a formatter\n",
        "formatter = logging.Formatter('%(asctime)s - %(name)s - %(levelname)s - %(message)s', datefmt='%Y-%m-%d %H:%M:%S') # Create a Formatter instance to define the structure and content of the log messages written to the file. The format string includes timestamp, logger name, log level, and the log message.\n",
        "\n",
        "# Add formatter to file handler\n",
        "file_handler.setFormatter(formatter) # Attach the formatter to the file handler. This ensures that messages written by this handler are formatted according to the specified format.\n",
        "\n",
        "# Add file handler to the logger\n",
        "# Avoid adding multiple handlers if the cell is run multiple times without a restart\n",
        "if not file_logger.handlers: # Check if the 'file_logger' instance already has any handlers attached to it. This prevents adding the same handler multiple times if the cell is executed repeatedly without a kernel restart.\n",
        "    file_logger.addHandler(file_handler) # If no handlers are present, add the file handler to the 'file_logger' instance. This directs messages from 'file_logger' to the 'app.log' file.\n",
        "    print(\"File logger configured to app.log\") # Print a confirmation message to the console indicating that the file logger was set up.\n",
        "else: # If the 'file_logger' already has handlers\n",
        "    print(\"File logger already has handlers.\") # Print a message indicating that the handler was not added again.\n",
        "\n",
        "# Log messages using the custom logger\n",
        "file_logger.debug('This is a debug message') # Log a debug level message using the 'file_logger' instance.\n",
        "file_logger.info('This is an info message') # Log an info level message using the 'file_logger' instance.\n",
        "file_logger.warning('This is a warning message') # Log a warning level message using the 'file_logger' instance.\n",
        "file_logger.error('This is an error message') # Log an error level message using the 'file_logger' instance.\n",
        "file_logger.critical('This is a critical message') # Log a critical level message using the 'file_logger' instance."
      ],
      "execution_count": 3,
      "outputs": [
        {
          "output_type": "stream",
          "name": "stderr",
          "text": [
            "DEBUG:file_logger:This is a debug message\n",
            "INFO:file_logger:This is an info message\n",
            "WARNING:file_logger:This is a warning message\n",
            "ERROR:file_logger:This is an error message\n",
            "CRITICAL:file_logger:This is a critical message\n"
          ]
        },
        {
          "output_type": "stream",
          "name": "stdout",
          "text": [
            "File logger configured to app.log\n"
          ]
        }
      ]
    }
  ]
}